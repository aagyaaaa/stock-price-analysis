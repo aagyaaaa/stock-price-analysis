{
 "cells": [
  {
   "cell_type": "code",
   "execution_count": 5,
   "id": "29da03d2",
   "metadata": {},
   "outputs": [
    {
     "name": "stdout",
     "output_type": "stream",
     "text": [
      "[*********************100%%**********************]  1 of 1 completed\n"
     ]
    },
    {
     "data": {
      "text/html": [
       "<div>\n",
       "<style scoped>\n",
       "    .dataframe tbody tr th:only-of-type {\n",
       "        vertical-align: middle;\n",
       "    }\n",
       "\n",
       "    .dataframe tbody tr th {\n",
       "        vertical-align: top;\n",
       "    }\n",
       "\n",
       "    .dataframe thead th {\n",
       "        text-align: right;\n",
       "    }\n",
       "</style>\n",
       "<table border=\"1\" class=\"dataframe\">\n",
       "  <thead>\n",
       "    <tr style=\"text-align: right;\">\n",
       "      <th></th>\n",
       "      <th>Open</th>\n",
       "      <th>High</th>\n",
       "      <th>Low</th>\n",
       "      <th>Close</th>\n",
       "      <th>Adj Close</th>\n",
       "      <th>Volume</th>\n",
       "    </tr>\n",
       "    <tr>\n",
       "      <th>Date</th>\n",
       "      <th></th>\n",
       "      <th></th>\n",
       "      <th></th>\n",
       "      <th></th>\n",
       "      <th></th>\n",
       "      <th></th>\n",
       "    </tr>\n",
       "  </thead>\n",
       "  <tbody>\n",
       "    <tr>\n",
       "      <th>2023-09-06</th>\n",
       "      <td>137.014999</td>\n",
       "      <td>137.479996</td>\n",
       "      <td>134.690002</td>\n",
       "      <td>135.369995</td>\n",
       "      <td>135.369995</td>\n",
       "      <td>15814300</td>\n",
       "    </tr>\n",
       "    <tr>\n",
       "      <th>2023-09-07</th>\n",
       "      <td>134.600006</td>\n",
       "      <td>136.580002</td>\n",
       "      <td>133.960007</td>\n",
       "      <td>136.199997</td>\n",
       "      <td>136.199997</td>\n",
       "      <td>16976000</td>\n",
       "    </tr>\n",
       "    <tr>\n",
       "      <th>2023-09-08</th>\n",
       "      <td>135.869995</td>\n",
       "      <td>137.514999</td>\n",
       "      <td>135.869995</td>\n",
       "      <td>137.199997</td>\n",
       "      <td>137.199997</td>\n",
       "      <td>17810700</td>\n",
       "    </tr>\n",
       "    <tr>\n",
       "      <th>2023-09-11</th>\n",
       "      <td>137.380005</td>\n",
       "      <td>138.264008</td>\n",
       "      <td>136.550003</td>\n",
       "      <td>137.740005</td>\n",
       "      <td>137.740005</td>\n",
       "      <td>17180800</td>\n",
       "    </tr>\n",
       "    <tr>\n",
       "      <th>2023-09-12</th>\n",
       "      <td>137.130005</td>\n",
       "      <td>137.639999</td>\n",
       "      <td>135.929993</td>\n",
       "      <td>136.070007</td>\n",
       "      <td>136.070007</td>\n",
       "      <td>15212900</td>\n",
       "    </tr>\n",
       "  </tbody>\n",
       "</table>\n",
       "</div>"
      ],
      "text/plain": [
       "                  Open        High         Low       Close   Adj Close  \\\n",
       "Date                                                                     \n",
       "2023-09-06  137.014999  137.479996  134.690002  135.369995  135.369995   \n",
       "2023-09-07  134.600006  136.580002  133.960007  136.199997  136.199997   \n",
       "2023-09-08  135.869995  137.514999  135.869995  137.199997  137.199997   \n",
       "2023-09-11  137.380005  138.264008  136.550003  137.740005  137.740005   \n",
       "2023-09-12  137.130005  137.639999  135.929993  136.070007  136.070007   \n",
       "\n",
       "              Volume  \n",
       "Date                  \n",
       "2023-09-06  15814300  \n",
       "2023-09-07  16976000  \n",
       "2023-09-08  17810700  \n",
       "2023-09-11  17180800  \n",
       "2023-09-12  15212900  "
      ]
     },
     "execution_count": 5,
     "metadata": {},
     "output_type": "execute_result"
    }
   ],
   "source": [
    "import yfinance as yf\n",
    "\n",
    "ticker ='GOOG'\n",
    "start = '2016-09-12'\n",
    "end = '2023-09-13'\n",
    " \n",
    "\n",
    "google_data = yf.download(tickers = ticker, start = start, end = end)\n",
    "google_data.head()\n",
    "google_data.tail()"
   ]
  },
  {
   "cell_type": "code",
   "execution_count": 6,
   "id": "d3e8cbb4",
   "metadata": {},
   "outputs": [
    {
     "data": {
      "text/html": [
       "<div>\n",
       "<style scoped>\n",
       "    .dataframe tbody tr th:only-of-type {\n",
       "        vertical-align: middle;\n",
       "    }\n",
       "\n",
       "    .dataframe tbody tr th {\n",
       "        vertical-align: top;\n",
       "    }\n",
       "\n",
       "    .dataframe thead th {\n",
       "        text-align: right;\n",
       "    }\n",
       "</style>\n",
       "<table border=\"1\" class=\"dataframe\">\n",
       "  <thead>\n",
       "    <tr style=\"text-align: right;\">\n",
       "      <th></th>\n",
       "      <th>Open</th>\n",
       "      <th>High</th>\n",
       "      <th>Low</th>\n",
       "      <th>Close</th>\n",
       "      <th>Adj Close</th>\n",
       "      <th>Volume</th>\n",
       "    </tr>\n",
       "    <tr>\n",
       "      <th>Date</th>\n",
       "      <th></th>\n",
       "      <th></th>\n",
       "      <th></th>\n",
       "      <th></th>\n",
       "      <th></th>\n",
       "      <th></th>\n",
       "    </tr>\n",
       "  </thead>\n",
       "  <tbody>\n",
       "    <tr>\n",
       "      <th>2016-09-12</th>\n",
       "      <td>37.756500</td>\n",
       "      <td>38.514500</td>\n",
       "      <td>37.700001</td>\n",
       "      <td>38.451000</td>\n",
       "      <td>38.451000</td>\n",
       "      <td>26220000</td>\n",
       "    </tr>\n",
       "    <tr>\n",
       "      <th>2016-09-13</th>\n",
       "      <td>38.223999</td>\n",
       "      <td>38.311001</td>\n",
       "      <td>37.790001</td>\n",
       "      <td>37.984501</td>\n",
       "      <td>37.984501</td>\n",
       "      <td>27900000</td>\n",
       "    </tr>\n",
       "    <tr>\n",
       "      <th>2016-09-14</th>\n",
       "      <td>37.980499</td>\n",
       "      <td>38.383999</td>\n",
       "      <td>37.955502</td>\n",
       "      <td>38.124500</td>\n",
       "      <td>38.124500</td>\n",
       "      <td>21748000</td>\n",
       "    </tr>\n",
       "    <tr>\n",
       "      <th>2016-09-15</th>\n",
       "      <td>38.144501</td>\n",
       "      <td>38.689999</td>\n",
       "      <td>37.998001</td>\n",
       "      <td>38.588001</td>\n",
       "      <td>38.588001</td>\n",
       "      <td>26102000</td>\n",
       "    </tr>\n",
       "    <tr>\n",
       "      <th>2016-09-16</th>\n",
       "      <td>38.487499</td>\n",
       "      <td>38.487499</td>\n",
       "      <td>38.233002</td>\n",
       "      <td>38.444000</td>\n",
       "      <td>38.444000</td>\n",
       "      <td>40986000</td>\n",
       "    </tr>\n",
       "  </tbody>\n",
       "</table>\n",
       "</div>"
      ],
      "text/plain": [
       "                 Open       High        Low      Close  Adj Close    Volume\n",
       "Date                                                                       \n",
       "2016-09-12  37.756500  38.514500  37.700001  38.451000  38.451000  26220000\n",
       "2016-09-13  38.223999  38.311001  37.790001  37.984501  37.984501  27900000\n",
       "2016-09-14  37.980499  38.383999  37.955502  38.124500  38.124500  21748000\n",
       "2016-09-15  38.144501  38.689999  37.998001  38.588001  38.588001  26102000\n",
       "2016-09-16  38.487499  38.487499  38.233002  38.444000  38.444000  40986000"
      ]
     },
     "execution_count": 6,
     "metadata": {},
     "output_type": "execute_result"
    }
   ],
   "source": [
    "google_data.head()"
   ]
  },
  {
   "cell_type": "markdown",
   "id": "cb0ed65f",
   "metadata": {},
   "source": [
    "# stock market prediction and forescasting using stacked LSTM"
   ]
  },
  {
   "cell_type": "code",
   "execution_count": 7,
   "id": "1d5e2a1b",
   "metadata": {},
   "outputs": [],
   "source": [
    "import numpy as np\n",
    "import pandas as pd\n",
    "import matplotlib.pyplot as plt\n",
    "import seaborn as sns"
   ]
  },
  {
   "cell_type": "code",
   "execution_count": 8,
   "id": "e8805418",
   "metadata": {},
   "outputs": [],
   "source": [
    "google_data1 = google_data.reset_index()['Close'] "
   ]
  },
  {
   "cell_type": "code",
   "execution_count": 9,
   "id": "cf3792c4",
   "metadata": {},
   "outputs": [
    {
     "data": {
      "text/plain": [
       "(1762,)"
      ]
     },
     "execution_count": 9,
     "metadata": {},
     "output_type": "execute_result"
    }
   ],
   "source": [
    "google_data1.shape\n",
    "\n"
   ]
  },
  {
   "cell_type": "code",
   "execution_count": 10,
   "id": "1df398d3",
   "metadata": {},
   "outputs": [
    {
     "data": {
      "text/html": [
       "<div>\n",
       "<style scoped>\n",
       "    .dataframe tbody tr th:only-of-type {\n",
       "        vertical-align: middle;\n",
       "    }\n",
       "\n",
       "    .dataframe tbody tr th {\n",
       "        vertical-align: top;\n",
       "    }\n",
       "\n",
       "    .dataframe thead th {\n",
       "        text-align: right;\n",
       "    }\n",
       "</style>\n",
       "<table border=\"1\" class=\"dataframe\">\n",
       "  <thead>\n",
       "    <tr style=\"text-align: right;\">\n",
       "      <th></th>\n",
       "      <th>Open</th>\n",
       "      <th>High</th>\n",
       "      <th>Low</th>\n",
       "      <th>Close</th>\n",
       "      <th>Adj Close</th>\n",
       "      <th>Volume</th>\n",
       "    </tr>\n",
       "    <tr>\n",
       "      <th>Date</th>\n",
       "      <th></th>\n",
       "      <th></th>\n",
       "      <th></th>\n",
       "      <th></th>\n",
       "      <th></th>\n",
       "      <th></th>\n",
       "    </tr>\n",
       "  </thead>\n",
       "  <tbody>\n",
       "    <tr>\n",
       "      <th>2016-09-12</th>\n",
       "      <td>37.756500</td>\n",
       "      <td>38.514500</td>\n",
       "      <td>37.700001</td>\n",
       "      <td>38.451000</td>\n",
       "      <td>38.451000</td>\n",
       "      <td>26220000</td>\n",
       "    </tr>\n",
       "    <tr>\n",
       "      <th>2016-09-13</th>\n",
       "      <td>38.223999</td>\n",
       "      <td>38.311001</td>\n",
       "      <td>37.790001</td>\n",
       "      <td>37.984501</td>\n",
       "      <td>37.984501</td>\n",
       "      <td>27900000</td>\n",
       "    </tr>\n",
       "    <tr>\n",
       "      <th>2016-09-14</th>\n",
       "      <td>37.980499</td>\n",
       "      <td>38.383999</td>\n",
       "      <td>37.955502</td>\n",
       "      <td>38.124500</td>\n",
       "      <td>38.124500</td>\n",
       "      <td>21748000</td>\n",
       "    </tr>\n",
       "    <tr>\n",
       "      <th>2016-09-15</th>\n",
       "      <td>38.144501</td>\n",
       "      <td>38.689999</td>\n",
       "      <td>37.998001</td>\n",
       "      <td>38.588001</td>\n",
       "      <td>38.588001</td>\n",
       "      <td>26102000</td>\n",
       "    </tr>\n",
       "    <tr>\n",
       "      <th>2016-09-16</th>\n",
       "      <td>38.487499</td>\n",
       "      <td>38.487499</td>\n",
       "      <td>38.233002</td>\n",
       "      <td>38.444000</td>\n",
       "      <td>38.444000</td>\n",
       "      <td>40986000</td>\n",
       "    </tr>\n",
       "  </tbody>\n",
       "</table>\n",
       "</div>"
      ],
      "text/plain": [
       "                 Open       High        Low      Close  Adj Close    Volume\n",
       "Date                                                                       \n",
       "2016-09-12  37.756500  38.514500  37.700001  38.451000  38.451000  26220000\n",
       "2016-09-13  38.223999  38.311001  37.790001  37.984501  37.984501  27900000\n",
       "2016-09-14  37.980499  38.383999  37.955502  38.124500  38.124500  21748000\n",
       "2016-09-15  38.144501  38.689999  37.998001  38.588001  38.588001  26102000\n",
       "2016-09-16  38.487499  38.487499  38.233002  38.444000  38.444000  40986000"
      ]
     },
     "execution_count": 10,
     "metadata": {},
     "output_type": "execute_result"
    }
   ],
   "source": [
    "google_data.head()"
   ]
  },
  {
   "cell_type": "code",
   "execution_count": 11,
   "id": "b8aed9a9",
   "metadata": {
    "scrolled": true
   },
   "outputs": [
    {
     "data": {
      "text/plain": [
       "[<matplotlib.lines.Line2D at 0x256a9e64f90>]"
      ]
     },
     "execution_count": 11,
     "metadata": {},
     "output_type": "execute_result"
    },
    {
     "data": {
      "image/png": "[encoded data removed]",
      "text/plain": [
       "<Figure size 640x480 with 1 Axes>"
      ]
     },
     "metadata": {},
     "output_type": "display_data"
    }
   ],
   "source": [
    "plt.plot(google_data1)"
   ]
  },
  {
   "cell_type": "code",
   "execution_count": 12,
   "id": "73b2444b",
   "metadata": {},
   "outputs": [],
   "source": [
    "#we can see the increment of values in close at google_data1"
   ]
  },
  {
   "cell_type": "code",
   "execution_count": 13,
   "id": "c73ef416",
   "metadata": {},
   "outputs": [
    {
     "data": {
      "text/plain": [
       "0        38.451000\n",
       "1        37.984501\n",
       "2        38.124500\n",
       "3        38.588001\n",
       "4        38.444000\n",
       "           ...    \n",
       "1757    135.369995\n",
       "1758    136.199997\n",
       "1759    137.199997\n",
       "1760    137.740005\n",
       "1761    136.070007\n",
       "Name: Close, Length: 1762, dtype: float64"
      ]
     },
     "execution_count": 13,
     "metadata": {},
     "output_type": "execute_result"
    }
   ],
   "source": [
    "google_data1"
   ]
  },
  {
   "cell_type": "code",
   "execution_count": 14,
   "id": "4b19f32f",
   "metadata": {},
   "outputs": [],
   "source": [
    "#LSTM(long short - term memory) used for deep learning also used for learn ,process,and classify sequential data."
   ]
  },
  {
   "cell_type": "code",
   "execution_count": 15,
   "id": "90383d3e",
   "metadata": {},
   "outputs": [],
   "source": [
    "#LSTM are sensitive to scale of data.so we apply minmax scaler"
   ]
  },
  {
   "cell_type": "code",
   "execution_count": 16,
   "id": "8a000825",
   "metadata": {},
   "outputs": [],
   "source": [
    "from sklearn.preprocessing import MinMaxScaler\n",
    "scaler = MinMaxScaler(feature_range = (0,1))\n",
    "google_data1 = scaler.fit_transform(np.array(google_data1).reshape(-1,1))\n"
   ]
  },
  {
   "cell_type": "code",
   "execution_count": 17,
   "id": "2d6f5c7b",
   "metadata": {},
   "outputs": [
    {
     "data": {
      "text/plain": [
       "(1762, 1)"
      ]
     },
     "execution_count": 17,
     "metadata": {},
     "output_type": "execute_result"
    }
   ],
   "source": [
    "google_data1.shape"
   ]
  },
  {
   "cell_type": "code",
   "execution_count": 18,
   "id": "748ebc5b",
   "metadata": {},
   "outputs": [
    {
     "name": "stdout",
     "output_type": "stream",
     "text": [
      "[[0.01445941]\n",
      " [0.0103639 ]\n",
      " [0.01159299]\n",
      " ...\n",
      " [0.88140114]\n",
      " [0.88614201]\n",
      " [0.87148069]]\n"
     ]
    }
   ],
   "source": [
    "print(google_data1)"
   ]
  },
  {
   "cell_type": "code",
   "execution_count": 19,
   "id": "18089b2b",
   "metadata": {},
   "outputs": [],
   "source": [
    "#splitting dataset into train and test split"
   ]
  },
  {
   "cell_type": "code",
   "execution_count": 20,
   "id": "f2cf3fd1",
   "metadata": {},
   "outputs": [],
   "source": [
    "training_size = int(len(google_data1)*0.75)\n",
    "test_size = len(google_data1)-training_size\n",
    "train_data,test_data = google_data1[0:training_size,:],google_data1[training_size:len(google_data1),:1]"
   ]
  },
  {
   "cell_type": "code",
   "execution_count": 21,
   "id": "8c889ee9",
   "metadata": {},
   "outputs": [
    {
     "data": {
      "text/plain": [
       "(1321, 441)"
      ]
     },
     "execution_count": 21,
     "metadata": {},
     "output_type": "execute_result"
    }
   ],
   "source": [
    "training_size,test_size"
   ]
  },
  {
   "cell_type": "code",
   "execution_count": 22,
   "id": "1e0a46c1",
   "metadata": {},
   "outputs": [
    {
     "data": {
      "text/plain": [
       "1321"
      ]
     },
     "execution_count": 22,
     "metadata": {},
     "output_type": "execute_result"
    }
   ],
   "source": [
    "len(train_data)"
   ]
  },
  {
   "cell_type": "code",
   "execution_count": 23,
   "id": "163789ac",
   "metadata": {},
   "outputs": [
    {
     "data": {
      "text/plain": [
       "441"
      ]
     },
     "execution_count": 23,
     "metadata": {},
     "output_type": "execute_result"
    }
   ],
   "source": [
    "len(test_data)"
   ]
  },
  {
   "cell_type": "code",
   "execution_count": 24,
   "id": "26ea315f",
   "metadata": {},
   "outputs": [],
   "source": [
    "#converting an array of values into a dataset matrix\n",
    "def create_dataset(dataset, time_step = 1):\n",
    "    dataX, dataY = [],[]\n",
    "    for i in range(len(dataset)- time_step-1):\n",
    "        a = dataset[i:(i+time_step),0] ###i = 0,1,2,3\n",
    "        dataX.append(a)\n",
    "        dataY.append(dataset[i+time_step,0])\n",
    "    return np.array(dataX),np.array(dataY)"
   ]
  },
  {
   "cell_type": "code",
   "execution_count": 25,
   "id": "450d3a5b",
   "metadata": {},
   "outputs": [],
   "source": [
    "#reshape into x=t, t+1,t+3 and y = t+4\n",
    "time_step = 100\n",
    "x_train, y_train = create_dataset(train_data, time_step)\n",
    "x_test , y_test = create_dataset(test_data , time_step)"
   ]
  },
  {
   "cell_type": "code",
   "execution_count": 26,
   "id": "e0198cdf",
   "metadata": {},
   "outputs": [
    {
     "name": "stdout",
     "output_type": "stream",
     "text": [
      "[[0.01445941 0.0103639  0.01159299 ... 0.0266494  0.02616875 0.02741317]\n",
      " [0.0103639  0.01159299 0.01566218 ... 0.02616875 0.02741317 0.02871253]\n",
      " [0.01159299 0.01566218 0.01439796 ... 0.02741317 0.02871253 0.02864668]\n",
      " ...\n",
      " [0.83647342 0.82930947 0.83439274 ... 0.92750973 0.92018784 0.93913792]\n",
      " [0.82930947 0.83439274 0.81164126 ... 0.92018784 0.93913792 0.92811108]\n",
      " [0.83439274 0.81164126 0.82786095 ... 0.93913792 0.92811108 0.93931341]]\n"
     ]
    }
   ],
   "source": [
    "print(x_train)"
   ]
  },
  {
   "cell_type": "code",
   "execution_count": 27,
   "id": "82096c83",
   "metadata": {},
   "outputs": [
    {
     "name": "stdout",
     "output_type": "stream",
     "text": [
      "[[0.97714765 0.98214304 0.9648435  ... 0.6862078  0.70543872 0.71397657]\n",
      " [0.98214304 0.9648435  0.94962034 ... 0.70543872 0.71397657 0.75300467]\n",
      " [0.9648435  0.94962034 0.97067293 ... 0.71397657 0.75300467 0.70183485]\n",
      " ...\n",
      " [0.63786488 0.61117596 0.59976298 ... 0.8778895  0.8770994  0.86533511]\n",
      " [0.61117596 0.59976298 0.59888501 ... 0.8770994  0.86533511 0.8726219 ]\n",
      " [0.59976298 0.59888501 0.60661078 ... 0.86533511 0.8726219  0.88140114]]\n"
     ]
    }
   ],
   "source": [
    "print(x_test)"
   ]
  },
  {
   "cell_type": "code",
   "execution_count": 28,
   "id": "d913c83f",
   "metadata": {},
   "outputs": [
    {
     "name": "stdout",
     "output_type": "stream",
     "text": [
      "(340, 100)\n",
      "(340,)\n"
     ]
    },
    {
     "data": {
      "text/plain": [
       "(None, None)"
      ]
     },
     "execution_count": 28,
     "metadata": {},
     "output_type": "execute_result"
    }
   ],
   "source": [
    "print(x_test.shape),print(y_test.shape)"
   ]
  },
  {
   "cell_type": "code",
   "execution_count": 29,
   "id": "dcf36051",
   "metadata": {},
   "outputs": [],
   "source": [
    "#reshape input to be[samples, time steps, features] which is required for LSTM\n",
    "x_train = x_train.reshape(x_train.shape[0],x_train.shape[1],1)\n",
    "x_test = x_test.reshape(x_test.shape[0], x_test.shape[1],1)"
   ]
  },
  {
   "cell_type": "code",
   "execution_count": 30,
   "id": "b56d2de9",
   "metadata": {},
   "outputs": [],
   "source": [
    "#creating the lSTM model\n",
    "from tensorflow.keras.models import Sequential\n",
    "from tensorflow.keras.layers import Dense\n",
    "from tensorflow.keras. layers import LSTM"
   ]
  },
  {
   "cell_type": "code",
   "execution_count": 31,
   "id": "351ee1b8",
   "metadata": {},
   "outputs": [],
   "source": [
    "model = Sequential()\n",
    "model.add(LSTM(50,return_sequences =True, input_shape = (100,1)))\n",
    "model.add(LSTM(50,return_sequences= True))\n",
    "model.add(LSTM(50))\n",
    "model.add(Dense(1))\n",
    "model.compile(loss = 'mean_squared_error', optimizer = 'adam')"
   ]
  },
  {
   "cell_type": "code",
   "execution_count": 32,
   "id": "16d46fe4",
   "metadata": {},
   "outputs": [
    {
     "name": "stdout",
     "output_type": "stream",
     "text": [
      "Model: \"sequential\"\n",
      "_________________________________________________________________\n",
      " Layer (type)                Output Shape              Param #   \n",
      "=================================================================\n",
      " lstm (LSTM)                 (None, 100, 50)           10400     \n",
      "                                                                 \n",
      " lstm_1 (LSTM)               (None, 100, 50)           20200     \n",
      "                                                                 \n",
      " lstm_2 (LSTM)               (None, 50)                20200     \n",
      "                                                                 \n",
      " dense (Dense)               (None, 1)                 51        \n",
      "                                                                 \n",
      "=================================================================\n",
      "Total params: 50851 (198.64 KB)\n",
      "Trainable params: 50851 (198.64 KB)\n",
      "Non-trainable params: 0 (0.00 Byte)\n",
      "_________________________________________________________________\n"
     ]
    }
   ],
   "source": [
    "model.summary()"
   ]
  },
  {
   "cell_type": "code",
   "execution_count": 33,
   "id": "f34db51e",
   "metadata": {},
   "outputs": [
    {
     "name": "stdout",
     "output_type": "stream",
     "text": [
      "Epoch 1/100\n",
      "20/20 [==============================] - 7s 140ms/step - loss: 0.0236 - val_loss: 0.0157\n",
      "Epoch 2/100\n",
      "20/20 [==============================] - 2s 93ms/step - loss: 0.0018 - val_loss: 0.0033\n",
      "Epoch 3/100\n",
      "20/20 [==============================] - 2s 96ms/step - loss: 9.4290e-04 - val_loss: 0.0057\n",
      "Epoch 4/100\n",
      "20/20 [==============================] - 2s 93ms/step - loss: 9.2373e-04 - val_loss: 0.0036\n",
      "Epoch 5/100\n",
      "20/20 [==============================] - 2s 93ms/step - loss: 8.1120e-04 - val_loss: 0.0048\n",
      "Epoch 6/100\n",
      "20/20 [==============================] - 2s 94ms/step - loss: 8.2415e-04 - val_loss: 0.0041\n",
      "Epoch 7/100\n",
      "20/20 [==============================] - 2s 100ms/step - loss: 7.8151e-04 - val_loss: 0.0034\n",
      "Epoch 8/100\n",
      "20/20 [==============================] - 2s 104ms/step - loss: 7.7995e-04 - val_loss: 0.0034\n",
      "Epoch 9/100\n",
      "20/20 [==============================] - 2s 120ms/step - loss: 8.6218e-04 - val_loss: 0.0033\n",
      "Epoch 10/100\n",
      "20/20 [==============================] - 2s 118ms/step - loss: 8.3140e-04 - val_loss: 0.0032\n",
      "Epoch 11/100\n",
      "20/20 [==============================] - 2s 102ms/step - loss: 8.7811e-04 - val_loss: 0.0032\n",
      "Epoch 12/100\n",
      "20/20 [==============================] - 2s 102ms/step - loss: 7.2565e-04 - val_loss: 0.0030\n",
      "Epoch 13/100\n",
      "20/20 [==============================] - 2s 98ms/step - loss: 7.3681e-04 - val_loss: 0.0037\n",
      "Epoch 14/100\n",
      "20/20 [==============================] - 2s 96ms/step - loss: 7.7611e-04 - val_loss: 0.0036\n",
      "Epoch 15/100\n",
      "20/20 [==============================] - 2s 97ms/step - loss: 7.1032e-04 - val_loss: 0.0029\n",
      "Epoch 16/100\n",
      "20/20 [==============================] - 2s 93ms/step - loss: 7.0536e-04 - val_loss: 0.0029\n",
      "Epoch 17/100\n",
      "20/20 [==============================] - 2s 95ms/step - loss: 7.8899e-04 - val_loss: 0.0045\n",
      "Epoch 18/100\n",
      "20/20 [==============================] - 2s 99ms/step - loss: 7.5407e-04 - val_loss: 0.0042\n",
      "Epoch 19/100\n",
      "20/20 [==============================] - 2s 96ms/step - loss: 7.2678e-04 - val_loss: 0.0026\n",
      "Epoch 20/100\n",
      "20/20 [==============================] - 2s 92ms/step - loss: 9.0512e-04 - val_loss: 0.0025\n",
      "Epoch 21/100\n",
      "20/20 [==============================] - 2s 92ms/step - loss: 6.8449e-04 - val_loss: 0.0036\n",
      "Epoch 22/100\n",
      "20/20 [==============================] - 2s 92ms/step - loss: 7.2340e-04 - val_loss: 0.0041\n",
      "Epoch 23/100\n",
      "20/20 [==============================] - 2s 96ms/step - loss: 6.4076e-04 - val_loss: 0.0035\n",
      "Epoch 24/100\n",
      "20/20 [==============================] - 2s 94ms/step - loss: 6.4906e-04 - val_loss: 0.0029\n",
      "Epoch 25/100\n",
      "20/20 [==============================] - 2s 92ms/step - loss: 6.9145e-04 - val_loss: 0.0043\n",
      "Epoch 26/100\n",
      "20/20 [==============================] - 2s 98ms/step - loss: 7.0326e-04 - val_loss: 0.0023\n",
      "Epoch 27/100\n",
      "20/20 [==============================] - 2s 95ms/step - loss: 6.5391e-04 - val_loss: 0.0024\n",
      "Epoch 28/100\n",
      "20/20 [==============================] - 2s 93ms/step - loss: 6.4526e-04 - val_loss: 0.0048\n",
      "Epoch 29/100\n",
      "20/20 [==============================] - 2s 92ms/step - loss: 0.0011 - val_loss: 0.0039\n",
      "Epoch 30/100\n",
      "20/20 [==============================] - 2s 92ms/step - loss: 6.0703e-04 - val_loss: 0.0024\n",
      "Epoch 31/100\n",
      "20/20 [==============================] - 2s 94ms/step - loss: 7.4871e-04 - val_loss: 0.0029\n",
      "Epoch 32/100\n",
      "20/20 [==============================] - 2s 94ms/step - loss: 6.7614e-04 - val_loss: 0.0024\n",
      "Epoch 33/100\n",
      "20/20 [==============================] - 2s 94ms/step - loss: 5.5414e-04 - val_loss: 0.0031\n",
      "Epoch 34/100\n",
      "20/20 [==============================] - 2s 97ms/step - loss: 5.7262e-04 - val_loss: 0.0021\n",
      "Epoch 35/100\n",
      "20/20 [==============================] - 2s 103ms/step - loss: 5.2935e-04 - val_loss: 0.0019\n",
      "Epoch 36/100\n",
      "20/20 [==============================] - 2s 102ms/step - loss: 5.3758e-04 - val_loss: 0.0039\n",
      "Epoch 37/100\n",
      "20/20 [==============================] - 2s 97ms/step - loss: 7.0994e-04 - val_loss: 0.0018\n",
      "Epoch 38/100\n",
      "20/20 [==============================] - 2s 98ms/step - loss: 5.1716e-04 - val_loss: 0.0020\n",
      "Epoch 39/100\n",
      "20/20 [==============================] - 2s 97ms/step - loss: 4.3980e-04 - val_loss: 0.0022\n",
      "Epoch 40/100\n",
      "20/20 [==============================] - 2s 95ms/step - loss: 4.3195e-04 - val_loss: 0.0025\n",
      "Epoch 41/100\n",
      "20/20 [==============================] - 2s 94ms/step - loss: 4.1691e-04 - val_loss: 0.0025\n",
      "Epoch 42/100\n",
      "20/20 [==============================] - 2s 95ms/step - loss: 4.0531e-04 - val_loss: 0.0020\n",
      "Epoch 43/100\n",
      "20/20 [==============================] - 2s 100ms/step - loss: 4.1831e-04 - val_loss: 0.0027\n",
      "Epoch 44/100\n",
      "20/20 [==============================] - 2s 99ms/step - loss: 3.8331e-04 - val_loss: 0.0036\n",
      "Epoch 45/100\n",
      "20/20 [==============================] - 2s 93ms/step - loss: 4.3986e-04 - val_loss: 0.0019\n",
      "Epoch 46/100\n",
      "20/20 [==============================] - 2s 99ms/step - loss: 5.3555e-04 - val_loss: 0.0026\n",
      "Epoch 47/100\n",
      "20/20 [==============================] - 3s 127ms/step - loss: 3.8311e-04 - val_loss: 0.0035\n",
      "Epoch 48/100\n",
      "20/20 [==============================] - 2s 120ms/step - loss: 3.9226e-04 - val_loss: 0.0033\n",
      "Epoch 49/100\n",
      "20/20 [==============================] - 2s 103ms/step - loss: 4.2130e-04 - val_loss: 0.0024\n",
      "Epoch 50/100\n",
      "20/20 [==============================] - 2s 107ms/step - loss: 3.6898e-04 - val_loss: 0.0022\n",
      "Epoch 51/100\n",
      "20/20 [==============================] - 2s 109ms/step - loss: 3.8567e-04 - val_loss: 0.0030\n",
      "Epoch 52/100\n",
      "20/20 [==============================] - 2s 122ms/step - loss: 3.6255e-04 - val_loss: 0.0040\n",
      "Epoch 53/100\n",
      "20/20 [==============================] - 2s 118ms/step - loss: 3.9615e-04 - val_loss: 0.0033\n",
      "Epoch 54/100\n",
      "20/20 [==============================] - 2s 103ms/step - loss: 3.7490e-04 - val_loss: 0.0020\n",
      "Epoch 55/100\n",
      "20/20 [==============================] - 2s 102ms/step - loss: 3.5760e-04 - val_loss: 0.0028\n",
      "Epoch 56/100\n",
      "20/20 [==============================] - 2s 111ms/step - loss: 3.8941e-04 - val_loss: 0.0023\n",
      "Epoch 57/100\n",
      "20/20 [==============================] - 3s 127ms/step - loss: 3.6866e-04 - val_loss: 0.0028\n",
      "Epoch 58/100\n",
      "20/20 [==============================] - 2s 118ms/step - loss: 3.5602e-04 - val_loss: 0.0020\n",
      "Epoch 59/100\n",
      "20/20 [==============================] - 2s 105ms/step - loss: 3.5514e-04 - val_loss: 0.0023\n",
      "Epoch 60/100\n",
      "20/20 [==============================] - 2s 102ms/step - loss: 3.4412e-04 - val_loss: 0.0030\n",
      "Epoch 61/100\n",
      "20/20 [==============================] - 2s 122ms/step - loss: 3.3958e-04 - val_loss: 0.0021\n",
      "Epoch 62/100\n",
      "20/20 [==============================] - 2s 122ms/step - loss: 3.4740e-04 - val_loss: 0.0022\n",
      "Epoch 63/100\n",
      "20/20 [==============================] - 2s 103ms/step - loss: 3.3930e-04 - val_loss: 0.0024\n",
      "Epoch 64/100\n",
      "20/20 [==============================] - 2s 106ms/step - loss: 3.6027e-04 - val_loss: 0.0029\n",
      "Epoch 65/100\n",
      "20/20 [==============================] - 2s 119ms/step - loss: 3.4153e-04 - val_loss: 0.0027\n",
      "Epoch 66/100\n",
      "20/20 [==============================] - 3s 126ms/step - loss: 3.4787e-04 - val_loss: 0.0041\n",
      "Epoch 67/100\n",
      "20/20 [==============================] - 2s 110ms/step - loss: 3.6421e-04 - val_loss: 0.0022\n",
      "Epoch 68/100\n",
      "20/20 [==============================] - 2s 102ms/step - loss: 3.5334e-04 - val_loss: 0.0057\n",
      "Epoch 69/100\n",
      "20/20 [==============================] - 2s 104ms/step - loss: 5.3315e-04 - val_loss: 0.0020\n",
      "Epoch 70/100\n",
      "20/20 [==============================] - 2s 121ms/step - loss: 3.3630e-04 - val_loss: 0.0028\n",
      "Epoch 71/100\n",
      "20/20 [==============================] - 2s 123ms/step - loss: 3.4821e-04 - val_loss: 0.0041\n",
      "Epoch 72/100\n",
      "20/20 [==============================] - 2s 109ms/step - loss: 3.5809e-04 - val_loss: 0.0022\n",
      "Epoch 73/100\n",
      "20/20 [==============================] - 2s 104ms/step - loss: 3.6082e-04 - val_loss: 0.0049\n",
      "Epoch 74/100\n",
      "20/20 [==============================] - 2s 109ms/step - loss: 3.7911e-04 - val_loss: 0.0017\n",
      "Epoch 75/100\n",
      "20/20 [==============================] - 2s 120ms/step - loss: 5.6741e-04 - val_loss: 0.0091\n",
      "Epoch 76/100\n",
      "20/20 [==============================] - 2s 115ms/step - loss: 0.0011 - val_loss: 0.0014\n",
      "Epoch 77/100\n",
      "20/20 [==============================] - 2s 102ms/step - loss: 3.9190e-04 - val_loss: 0.0019\n",
      "Epoch 78/100\n",
      "20/20 [==============================] - 2s 101ms/step - loss: 3.2406e-04 - val_loss: 0.0014\n",
      "Epoch 79/100\n",
      "20/20 [==============================] - 2s 120ms/step - loss: 3.2331e-04 - val_loss: 0.0013\n",
      "Epoch 80/100\n",
      "20/20 [==============================] - 3s 132ms/step - loss: 3.0902e-04 - val_loss: 0.0017\n",
      "Epoch 81/100\n",
      "20/20 [==============================] - 2s 110ms/step - loss: 3.0030e-04 - val_loss: 0.0016\n",
      "Epoch 82/100\n",
      "20/20 [==============================] - 2s 92ms/step - loss: 3.0050e-04 - val_loss: 0.0014\n",
      "Epoch 83/100\n",
      "20/20 [==============================] - 2s 93ms/step - loss: 2.9838e-04 - val_loss: 0.0013\n",
      "Epoch 84/100\n",
      "20/20 [==============================] - 2s 92ms/step - loss: 3.0188e-04 - val_loss: 0.0015\n",
      "Epoch 85/100\n",
      "20/20 [==============================] - 2s 92ms/step - loss: 3.0168e-04 - val_loss: 0.0012\n",
      "Epoch 86/100\n",
      "20/20 [==============================] - 2s 95ms/step - loss: 2.9616e-04 - val_loss: 0.0013\n",
      "Epoch 87/100\n",
      "20/20 [==============================] - 2s 101ms/step - loss: 2.9531e-04 - val_loss: 0.0014\n",
      "Epoch 88/100\n",
      "20/20 [==============================] - 2s 96ms/step - loss: 3.1019e-04 - val_loss: 0.0012\n",
      "Epoch 89/100\n",
      "20/20 [==============================] - 2s 93ms/step - loss: 3.1982e-04 - val_loss: 0.0022\n",
      "Epoch 90/100\n",
      "20/20 [==============================] - 2s 93ms/step - loss: 3.1312e-04 - val_loss: 0.0014\n",
      "Epoch 91/100\n",
      "20/20 [==============================] - 2s 93ms/step - loss: 2.7961e-04 - val_loss: 0.0020\n",
      "Epoch 92/100\n",
      "20/20 [==============================] - 2s 93ms/step - loss: 3.0882e-04 - val_loss: 0.0014\n",
      "Epoch 93/100\n",
      "20/20 [==============================] - 2s 92ms/step - loss: 4.5279e-04 - val_loss: 0.0021\n",
      "Epoch 94/100\n",
      "20/20 [==============================] - 2s 93ms/step - loss: 3.3451e-04 - val_loss: 0.0014\n",
      "Epoch 95/100\n",
      "20/20 [==============================] - 2s 98ms/step - loss: 2.6454e-04 - val_loss: 0.0014\n",
      "Epoch 96/100\n",
      "20/20 [==============================] - 2s 95ms/step - loss: 5.1082e-04 - val_loss: 0.0034\n",
      "Epoch 97/100\n",
      "20/20 [==============================] - 2s 93ms/step - loss: 4.6062e-04 - val_loss: 0.0017\n",
      "Epoch 98/100\n",
      "20/20 [==============================] - 2s 92ms/step - loss: 2.6776e-04 - val_loss: 0.0017\n",
      "Epoch 99/100\n",
      "20/20 [==============================] - 2s 93ms/step - loss: 3.3593e-04 - val_loss: 0.0027\n",
      "Epoch 100/100\n",
      "20/20 [==============================] - 2s 93ms/step - loss: 2.8752e-04 - val_loss: 0.0021\n"
     ]
    },
    {
     "data": {
      "text/plain": [
       "<keras.src.callbacks.History at 0x256ab4a04d0>"
      ]
     },
     "execution_count": 33,
     "metadata": {},
     "output_type": "execute_result"
    }
   ],
   "source": [
    "model.fit(x_train,y_train,validation_data = (x_test,y_test),epochs = 100,batch_size = 64,verbose = 1)"
   ]
  },
  {
   "cell_type": "code",
   "execution_count": 34,
   "id": "677526fa",
   "metadata": {},
   "outputs": [],
   "source": [
    "import tensorflow as tf"
   ]
  },
  {
   "cell_type": "code",
   "execution_count": 37,
   "id": "a46c5073",
   "metadata": {},
   "outputs": [
    {
     "data": {
      "text/plain": [
       "'2.13.0'"
      ]
     },
     "execution_count": 37,
     "metadata": {},
     "output_type": "execute_result"
    }
   ],
   "source": [
    "tf.__version__"
   ]
  },
  {
   "cell_type": "markdown",
   "id": "4eb5f492",
   "metadata": {},
   "source": [
    "# lets do the prediction and check performance metrics"
   ]
  },
  {
   "cell_type": "code",
   "execution_count": 38,
   "id": "3a286960",
   "metadata": {},
   "outputs": [
    {
     "name": "stdout",
     "output_type": "stream",
     "text": [
      "39/39 [==============================] - 1s 18ms/step\n",
      "11/11 [==============================] - 0s 18ms/step\n"
     ]
    }
   ],
   "source": [
    "train_predict = model.predict(x_train)\n",
    "test_predict = model.predict(x_test)"
   ]
  },
  {
   "cell_type": "code",
   "execution_count": 39,
   "id": "09beb0d8",
   "metadata": {},
   "outputs": [],
   "source": [
    "##transform back to original form\n",
    "train_predict = scaler.inverse_transform(train_predict)\n",
    "test_predict = scaler.inverse_transform(test_predict)\n"
   ]
  },
  {
   "cell_type": "code",
   "execution_count": 40,
   "id": "ca2404e0",
   "metadata": {},
   "outputs": [
    {
     "data": {
      "text/plain": [
       "77.297372584218"
      ]
     },
     "execution_count": 40,
     "metadata": {},
     "output_type": "execute_result"
    }
   ],
   "source": [
    "##calculate RMSE(root mean square error)performance metrics\n",
    "import math \n",
    "from sklearn.metrics import mean_squared_error\n",
    "math.sqrt(mean_squared_error(y_train, train_predict))"
   ]
  },
  {
   "cell_type": "code",
   "execution_count": 41,
   "id": "11b7b78f",
   "metadata": {},
   "outputs": [
    {
     "data": {
      "text/plain": [
       "112.68427967925999"
      ]
     },
     "execution_count": 41,
     "metadata": {},
     "output_type": "execute_result"
    }
   ],
   "source": [
    "#test data RMSE\n",
    "math.sqrt(mean_squared_error(y_test,test_predict))"
   ]
  },
  {
   "cell_type": "code",
   "execution_count": 43,
   "id": "458d22fa",
   "metadata": {},
   "outputs": [
    {
     "data": {
      "image/png": "[encoded data removed]",
      "text/plain": [
       "<Figure size 640x480 with 1 Axes>"
      ]
     },
     "metadata": {},
     "output_type": "display_data"
    }
   ],
   "source": [
    "###plotting\n",
    "#shift train predictions for plotting\n",
    "look_back = 100\n",
    "trainPredictPlot = np.empty_like(google_data1)\n",
    "trainPredictPlot[:, :] = np.nan\n",
    "trainPredictPlot[look_back:len(train_predict)+look_back, :] = train_predict\n",
    "#shift test prediction  for plotting\n",
    "testPredictPlot = np.empty_like(google_data1)\n",
    "testPredictPlot[:, :] = np.nan\n",
    "testPredictPlot[len(train_predict)+(look_back*2)+1:len(google_data1)-1, :] = test_predict\n",
    "#plot baseline and prediction\n",
    "plt.plot(scaler.inverse_transform(google_data1))\n",
    "plt.plot(trainPredictPlot)\n",
    "plt.plot(testPredictPlot)\n",
    "plt.show()\n"
   ]
  },
  {
   "cell_type": "code",
   "execution_count": 45,
   "id": "cb2d8108",
   "metadata": {},
   "outputs": [
    {
     "data": {
      "text/plain": [
       "441"
      ]
     },
     "execution_count": 45,
     "metadata": {},
     "output_type": "execute_result"
    }
   ],
   "source": [
    "len(test_data)"
   ]
  },
  {
   "cell_type": "code",
   "execution_count": 46,
   "id": "77dba1b3",
   "metadata": {},
   "outputs": [
    {
     "data": {
      "text/plain": [
       "(1, 100)"
      ]
     },
     "execution_count": 46,
     "metadata": {},
     "output_type": "execute_result"
    }
   ],
   "source": [
    "x_input = test_data[341:].reshape(1,-1)\n",
    "x_input.shape"
   ]
  },
  {
   "cell_type": "code",
   "execution_count": 47,
   "id": "49b6f1f4",
   "metadata": {},
   "outputs": [],
   "source": [
    "temp_input = list(x_input)\n",
    "temp_input = temp_input[0].tolist()"
   ]
  },
  {
   "cell_type": "code",
   "execution_count": 50,
   "id": "24f6578d",
   "metadata": {
    "scrolled": true
   },
   "outputs": [
    {
     "data": {
      "text/plain": [
       "[0.6066107845299011,\n",
       " 0.6066985957439626,\n",
       " 0.6143364968590244,\n",
       " 0.595285549207904,\n",
       " 0.5938808377042465,\n",
       " 0.6282955327602139,\n",
       " 0.6269786324706177,\n",
       " 0.6225011982781232,\n",
       " 0.60731314028173,\n",
       " 0.6085422293572648,\n",
       " 0.6005530833859575,\n",
       " 0.609376201459689,\n",
       " 0.6271541879184094,\n",
       " 0.6245204543195482,\n",
       " 0.6626223496217888,\n",
       " 0.7031824900554301,\n",
       " 0.7121372914600882,\n",
       " 0.7037092233791363,\n",
       " 0.7311882391112084,\n",
       " 0.7433914526131572,\n",
       " 0.761301055422473,\n",
       " 0.7589306884854649,\n",
       " 0.7819323370053736,\n",
       " 0.7592818663613793,\n",
       " 0.7447960971364836,\n",
       " 0.7685878456419516,\n",
       " 0.7780694473506465,\n",
       " 0.7711338350070825,\n",
       " 0.7599842221132079,\n",
       " 0.7687634680700742,\n",
       " 0.7763136249514057,\n",
       " 0.7886045157067537,\n",
       " 0.7998420067950206,\n",
       " 0.7562091436725421,\n",
       " 0.753838709755203,\n",
       " 0.7555945991347749,\n",
       " 0.7685878456419516,\n",
       " 0.7692902013937802,\n",
       " 0.7688512123038046,\n",
       " 0.7812299812535449,\n",
       " 0.7660418562768206,\n",
       " 0.7641982226635183,\n",
       " 0.7414600077857937,\n",
       " 0.7643738450916412,\n",
       " 0.7569114324440399,\n",
       " 0.7224089931543421,\n",
       " 0.7217067043828446,\n",
       " 0.7398797408343444,\n",
       " 0.7304859503397109,\n",
       " 0.7389140184206627,\n",
       " 0.7353144954277885,\n",
       " 0.7534875318792885,\n",
       " 0.7385628405447483,\n",
       " 0.7316272282011843,\n",
       " 0.7029191233935771,\n",
       " 0.7102936578467859,\n",
       " 0.7270620497749595,\n",
       " 0.7728019131725931,\n",
       " 0.7804398142876549,\n",
       " 0.7748211022336867,\n",
       " 0.7662174787049433,\n",
       " 0.7548044321688846,\n",
       " 0.7262718828090694,\n",
       " 0.733119683938572,\n",
       " 0.7469030974116387,\n",
       " 0.754892243382946,\n",
       " 0.8152056872195365,\n",
       " 0.8170492538525077,\n",
       " 0.8446160807986413,\n",
       " 0.8454940589785928,\n",
       " 0.8347833681943629,\n",
       " 0.8062508188345475,\n",
       " 0.807392163676352,\n",
       " 0.805372840654596,\n",
       " 0.8352223572843386,\n",
       " 0.8343443791043871,\n",
       " 0.8195074320035772,\n",
       " 0.8200342992879454,\n",
       " 0.8196830544316999,\n",
       " 0.8342566348706569,\n",
       " 0.8205610326116514,\n",
       " 0.8103770751511276,\n",
       " 0.8222291107771621,\n",
       " 0.8015978291942615,\n",
       " 0.8087967412193474,\n",
       " 0.8154690538813895,\n",
       " 0.8463720371585443,\n",
       " 0.8218778659209166,\n",
       " 0.8242482998382558,\n",
       " 0.8339053900144114,\n",
       " 0.8663887072233464,\n",
       " 0.8790307088742776,\n",
       " 0.8827181100615441,\n",
       " 0.8778894979931352,\n",
       " 0.8770993980075762,\n",
       " 0.8653351066152722,\n",
       " 0.8726218968347507,\n",
       " 0.881401142791617,\n",
       " 0.8861420106262955,\n",
       " 0.8714806859536083]"
      ]
     },
     "execution_count": 50,
     "metadata": {},
     "output_type": "execute_result"
    }
   ],
   "source": [
    "temp_input"
   ]
  },
  {
   "cell_type": "code",
   "execution_count": 52,
   "id": "7f3a237c",
   "metadata": {},
   "outputs": [
    {
     "name": "stdout",
     "output_type": "stream",
     "text": [
      "[0.8946056]\n",
      "101\n",
      "1 day input[0.6066986  0.6143365  0.59528555 0.59388084 0.62829553 0.62697863\n",
      " 0.6225012  0.60731314 0.60854223 0.60055308 0.6093762  0.62715419\n",
      " 0.62452045 0.66262235 0.70318249 0.71213729 0.70370922 0.73118824\n",
      " 0.74339145 0.76130106 0.75893069 0.78193234 0.75928187 0.7447961\n",
      " 0.76858785 0.77806945 0.77113384 0.75998422 0.76876347 0.77631362\n",
      " 0.78860452 0.79984201 0.75620914 0.75383871 0.7555946  0.76858785\n",
      " 0.7692902  0.76885121 0.78122998 0.76604186 0.76419822 0.74146001\n",
      " 0.76437385 0.75691143 0.72240899 0.7217067  0.73987974 0.73048595\n",
      " 0.73891402 0.7353145  0.75348753 0.73856284 0.73162723 0.70291912\n",
      " 0.71029366 0.72706205 0.77280191 0.78043981 0.7748211  0.76621748\n",
      " 0.75480443 0.72627188 0.73311968 0.7469031  0.75489224 0.81520569\n",
      " 0.81704925 0.84461608 0.84549406 0.83478337 0.80625082 0.80739216\n",
      " 0.80537284 0.83522236 0.83434438 0.81950743 0.8200343  0.81968305\n",
      " 0.83425663 0.82056103 0.81037708 0.82222911 0.80159783 0.80879674\n",
      " 0.81546905 0.84637204 0.82187787 0.8242483  0.83390539 0.86638871\n",
      " 0.87903071 0.88271811 0.8778895  0.8770994  0.86533511 0.8726219\n",
      " 0.88140114 0.88614201 0.87148069 0.89460558]\n",
      "1 day output[[0.89690274]]\n",
      "2 day input[0.6143365  0.59528555 0.59388084 0.62829553 0.62697863 0.6225012\n",
      " 0.60731314 0.60854223 0.60055308 0.6093762  0.62715419 0.62452045\n",
      " 0.66262235 0.70318249 0.71213729 0.70370922 0.73118824 0.74339145\n",
      " 0.76130106 0.75893069 0.78193234 0.75928187 0.7447961  0.76858785\n",
      " 0.77806945 0.77113384 0.75998422 0.76876347 0.77631362 0.78860452\n",
      " 0.79984201 0.75620914 0.75383871 0.7555946  0.76858785 0.7692902\n",
      " 0.76885121 0.78122998 0.76604186 0.76419822 0.74146001 0.76437385\n",
      " 0.75691143 0.72240899 0.7217067  0.73987974 0.73048595 0.73891402\n",
      " 0.7353145  0.75348753 0.73856284 0.73162723 0.70291912 0.71029366\n",
      " 0.72706205 0.77280191 0.78043981 0.7748211  0.76621748 0.75480443\n",
      " 0.72627188 0.73311968 0.7469031  0.75489224 0.81520569 0.81704925\n",
      " 0.84461608 0.84549406 0.83478337 0.80625082 0.80739216 0.80537284\n",
      " 0.83522236 0.83434438 0.81950743 0.8200343  0.81968305 0.83425663\n",
      " 0.82056103 0.81037708 0.82222911 0.80159783 0.80879674 0.81546905\n",
      " 0.84637204 0.82187787 0.8242483  0.83390539 0.86638871 0.87903071\n",
      " 0.88271811 0.8778895  0.8770994  0.86533511 0.8726219  0.88140114\n",
      " 0.88614201 0.87148069 0.89460558 0.89690274]\n",
      "2 day output[[0.9011823]]\n",
      "3 day input[0.59528555 0.59388084 0.62829553 0.62697863 0.6225012  0.60731314\n",
      " 0.60854223 0.60055308 0.6093762  0.62715419 0.62452045 0.66262235\n",
      " 0.70318249 0.71213729 0.70370922 0.73118824 0.74339145 0.76130106\n",
      " 0.75893069 0.78193234 0.75928187 0.7447961  0.76858785 0.77806945\n",
      " 0.77113384 0.75998422 0.76876347 0.77631362 0.78860452 0.79984201\n",
      " 0.75620914 0.75383871 0.7555946  0.76858785 0.7692902  0.76885121\n",
      " 0.78122998 0.76604186 0.76419822 0.74146001 0.76437385 0.75691143\n",
      " 0.72240899 0.7217067  0.73987974 0.73048595 0.73891402 0.7353145\n",
      " 0.75348753 0.73856284 0.73162723 0.70291912 0.71029366 0.72706205\n",
      " 0.77280191 0.78043981 0.7748211  0.76621748 0.75480443 0.72627188\n",
      " 0.73311968 0.7469031  0.75489224 0.81520569 0.81704925 0.84461608\n",
      " 0.84549406 0.83478337 0.80625082 0.80739216 0.80537284 0.83522236\n",
      " 0.83434438 0.81950743 0.8200343  0.81968305 0.83425663 0.82056103\n",
      " 0.81037708 0.82222911 0.80159783 0.80879674 0.81546905 0.84637204\n",
      " 0.82187787 0.8242483  0.83390539 0.86638871 0.87903071 0.88271811\n",
      " 0.8778895  0.8770994  0.86533511 0.8726219  0.88140114 0.88614201\n",
      " 0.87148069 0.89460558 0.89690274 0.90118229]\n",
      "3 day output[[0.9062972]]\n",
      "4 day input[0.59388084 0.62829553 0.62697863 0.6225012  0.60731314 0.60854223\n",
      " 0.60055308 0.6093762  0.62715419 0.62452045 0.66262235 0.70318249\n",
      " 0.71213729 0.70370922 0.73118824 0.74339145 0.76130106 0.75893069\n",
      " 0.78193234 0.75928187 0.7447961  0.76858785 0.77806945 0.77113384\n",
      " 0.75998422 0.76876347 0.77631362 0.78860452 0.79984201 0.75620914\n",
      " 0.75383871 0.7555946  0.76858785 0.7692902  0.76885121 0.78122998\n",
      " 0.76604186 0.76419822 0.74146001 0.76437385 0.75691143 0.72240899\n",
      " 0.7217067  0.73987974 0.73048595 0.73891402 0.7353145  0.75348753\n",
      " 0.73856284 0.73162723 0.70291912 0.71029366 0.72706205 0.77280191\n",
      " 0.78043981 0.7748211  0.76621748 0.75480443 0.72627188 0.73311968\n",
      " 0.7469031  0.75489224 0.81520569 0.81704925 0.84461608 0.84549406\n",
      " 0.83478337 0.80625082 0.80739216 0.80537284 0.83522236 0.83434438\n",
      " 0.81950743 0.8200343  0.81968305 0.83425663 0.82056103 0.81037708\n",
      " 0.82222911 0.80159783 0.80879674 0.81546905 0.84637204 0.82187787\n",
      " 0.8242483  0.83390539 0.86638871 0.87903071 0.88271811 0.8778895\n",
      " 0.8770994  0.86533511 0.8726219  0.88140114 0.88614201 0.87148069\n",
      " 0.89460558 0.89690274 0.90118229 0.90629721]\n",
      "4 day output[[0.91157424]]\n",
      "5 day input[0.62829553 0.62697863 0.6225012  0.60731314 0.60854223 0.60055308\n",
      " 0.6093762  0.62715419 0.62452045 0.66262235 0.70318249 0.71213729\n",
      " 0.70370922 0.73118824 0.74339145 0.76130106 0.75893069 0.78193234\n",
      " 0.75928187 0.7447961  0.76858785 0.77806945 0.77113384 0.75998422\n",
      " 0.76876347 0.77631362 0.78860452 0.79984201 0.75620914 0.75383871\n",
      " 0.7555946  0.76858785 0.7692902  0.76885121 0.78122998 0.76604186\n",
      " 0.76419822 0.74146001 0.76437385 0.75691143 0.72240899 0.7217067\n",
      " 0.73987974 0.73048595 0.73891402 0.7353145  0.75348753 0.73856284\n",
      " 0.73162723 0.70291912 0.71029366 0.72706205 0.77280191 0.78043981\n",
      " 0.7748211  0.76621748 0.75480443 0.72627188 0.73311968 0.7469031\n",
      " 0.75489224 0.81520569 0.81704925 0.84461608 0.84549406 0.83478337\n",
      " 0.80625082 0.80739216 0.80537284 0.83522236 0.83434438 0.81950743\n",
      " 0.8200343  0.81968305 0.83425663 0.82056103 0.81037708 0.82222911\n",
      " 0.80159783 0.80879674 0.81546905 0.84637204 0.82187787 0.8242483\n",
      " 0.83390539 0.86638871 0.87903071 0.88271811 0.8778895  0.8770994\n",
      " 0.86533511 0.8726219  0.88140114 0.88614201 0.87148069 0.89460558\n",
      " 0.89690274 0.90118229 0.90629721 0.91157424]\n",
      "5 day output[[0.916713]]\n",
      "6 day input[0.62697863 0.6225012  0.60731314 0.60854223 0.60055308 0.6093762\n",
      " 0.62715419 0.62452045 0.66262235 0.70318249 0.71213729 0.70370922\n",
      " 0.73118824 0.74339145 0.76130106 0.75893069 0.78193234 0.75928187\n",
      " 0.7447961  0.76858785 0.77806945 0.77113384 0.75998422 0.76876347\n",
      " 0.77631362 0.78860452 0.79984201 0.75620914 0.75383871 0.7555946\n",
      " 0.76858785 0.7692902  0.76885121 0.78122998 0.76604186 0.76419822\n",
      " 0.74146001 0.76437385 0.75691143 0.72240899 0.7217067  0.73987974\n",
      " 0.73048595 0.73891402 0.7353145  0.75348753 0.73856284 0.73162723\n",
      " 0.70291912 0.71029366 0.72706205 0.77280191 0.78043981 0.7748211\n",
      " 0.76621748 0.75480443 0.72627188 0.73311968 0.7469031  0.75489224\n",
      " 0.81520569 0.81704925 0.84461608 0.84549406 0.83478337 0.80625082\n",
      " 0.80739216 0.80537284 0.83522236 0.83434438 0.81950743 0.8200343\n",
      " 0.81968305 0.83425663 0.82056103 0.81037708 0.82222911 0.80159783\n",
      " 0.80879674 0.81546905 0.84637204 0.82187787 0.8242483  0.83390539\n",
      " 0.86638871 0.87903071 0.88271811 0.8778895  0.8770994  0.86533511\n",
      " 0.8726219  0.88140114 0.88614201 0.87148069 0.89460558 0.89690274\n",
      " 0.90118229 0.90629721 0.91157424 0.916713  ]\n",
      "6 day output[[0.92159766]]\n",
      "7 day input[0.6225012  0.60731314 0.60854223 0.60055308 0.6093762  0.62715419\n",
      " 0.62452045 0.66262235 0.70318249 0.71213729 0.70370922 0.73118824\n",
      " 0.74339145 0.76130106 0.75893069 0.78193234 0.75928187 0.7447961\n",
      " 0.76858785 0.77806945 0.77113384 0.75998422 0.76876347 0.77631362\n",
      " 0.78860452 0.79984201 0.75620914 0.75383871 0.7555946  0.76858785\n",
      " 0.7692902  0.76885121 0.78122998 0.76604186 0.76419822 0.74146001\n",
      " 0.76437385 0.75691143 0.72240899 0.7217067  0.73987974 0.73048595\n",
      " 0.73891402 0.7353145  0.75348753 0.73856284 0.73162723 0.70291912\n",
      " 0.71029366 0.72706205 0.77280191 0.78043981 0.7748211  0.76621748\n",
      " 0.75480443 0.72627188 0.73311968 0.7469031  0.75489224 0.81520569\n",
      " 0.81704925 0.84461608 0.84549406 0.83478337 0.80625082 0.80739216\n",
      " 0.80537284 0.83522236 0.83434438 0.81950743 0.8200343  0.81968305\n",
      " 0.83425663 0.82056103 0.81037708 0.82222911 0.80159783 0.80879674\n",
      " 0.81546905 0.84637204 0.82187787 0.8242483  0.83390539 0.86638871\n",
      " 0.87903071 0.88271811 0.8778895  0.8770994  0.86533511 0.8726219\n",
      " 0.88140114 0.88614201 0.87148069 0.89460558 0.89690274 0.90118229\n",
      " 0.90629721 0.91157424 0.916713   0.92159766]\n",
      "7 day output[[0.9261844]]\n",
      "8 day input[0.60731314 0.60854223 0.60055308 0.6093762  0.62715419 0.62452045\n",
      " 0.66262235 0.70318249 0.71213729 0.70370922 0.73118824 0.74339145\n",
      " 0.76130106 0.75893069 0.78193234 0.75928187 0.7447961  0.76858785\n",
      " 0.77806945 0.77113384 0.75998422 0.76876347 0.77631362 0.78860452\n",
      " 0.79984201 0.75620914 0.75383871 0.7555946  0.76858785 0.7692902\n",
      " 0.76885121 0.78122998 0.76604186 0.76419822 0.74146001 0.76437385\n",
      " 0.75691143 0.72240899 0.7217067  0.73987974 0.73048595 0.73891402\n",
      " 0.7353145  0.75348753 0.73856284 0.73162723 0.70291912 0.71029366\n",
      " 0.72706205 0.77280191 0.78043981 0.7748211  0.76621748 0.75480443\n",
      " 0.72627188 0.73311968 0.7469031  0.75489224 0.81520569 0.81704925\n",
      " 0.84461608 0.84549406 0.83478337 0.80625082 0.80739216 0.80537284\n",
      " 0.83522236 0.83434438 0.81950743 0.8200343  0.81968305 0.83425663\n",
      " 0.82056103 0.81037708 0.82222911 0.80159783 0.80879674 0.81546905\n",
      " 0.84637204 0.82187787 0.8242483  0.83390539 0.86638871 0.87903071\n",
      " 0.88271811 0.8778895  0.8770994  0.86533511 0.8726219  0.88140114\n",
      " 0.88614201 0.87148069 0.89460558 0.89690274 0.90118229 0.90629721\n",
      " 0.91157424 0.916713   0.92159766 0.92618442]\n",
      "8 day output[[0.9304529]]\n",
      "9 day input[0.60854223 0.60055308 0.6093762  0.62715419 0.62452045 0.66262235\n",
      " 0.70318249 0.71213729 0.70370922 0.73118824 0.74339145 0.76130106\n",
      " 0.75893069 0.78193234 0.75928187 0.7447961  0.76858785 0.77806945\n",
      " 0.77113384 0.75998422 0.76876347 0.77631362 0.78860452 0.79984201\n",
      " 0.75620914 0.75383871 0.7555946  0.76858785 0.7692902  0.76885121\n",
      " 0.78122998 0.76604186 0.76419822 0.74146001 0.76437385 0.75691143\n",
      " 0.72240899 0.7217067  0.73987974 0.73048595 0.73891402 0.7353145\n",
      " 0.75348753 0.73856284 0.73162723 0.70291912 0.71029366 0.72706205\n",
      " 0.77280191 0.78043981 0.7748211  0.76621748 0.75480443 0.72627188\n",
      " 0.73311968 0.7469031  0.75489224 0.81520569 0.81704925 0.84461608\n",
      " 0.84549406 0.83478337 0.80625082 0.80739216 0.80537284 0.83522236\n",
      " 0.83434438 0.81950743 0.8200343  0.81968305 0.83425663 0.82056103\n",
      " 0.81037708 0.82222911 0.80159783 0.80879674 0.81546905 0.84637204\n",
      " 0.82187787 0.8242483  0.83390539 0.86638871 0.87903071 0.88271811\n",
      " 0.8778895  0.8770994  0.86533511 0.8726219  0.88140114 0.88614201\n",
      " 0.87148069 0.89460558 0.89690274 0.90118229 0.90629721 0.91157424\n",
      " 0.916713   0.92159766 0.92618442 0.93045288]\n",
      "9 day output[[0.934394]]\n",
      "10 day input[0.60055308 0.6093762  0.62715419 0.62452045 0.66262235 0.70318249\n",
      " 0.71213729 0.70370922 0.73118824 0.74339145 0.76130106 0.75893069\n",
      " 0.78193234 0.75928187 0.7447961  0.76858785 0.77806945 0.77113384\n",
      " 0.75998422 0.76876347 0.77631362 0.78860452 0.79984201 0.75620914\n",
      " 0.75383871 0.7555946  0.76858785 0.7692902  0.76885121 0.78122998\n",
      " 0.76604186 0.76419822 0.74146001 0.76437385 0.75691143 0.72240899\n",
      " 0.7217067  0.73987974 0.73048595 0.73891402 0.7353145  0.75348753\n",
      " 0.73856284 0.73162723 0.70291912 0.71029366 0.72706205 0.77280191\n",
      " 0.78043981 0.7748211  0.76621748 0.75480443 0.72627188 0.73311968\n",
      " 0.7469031  0.75489224 0.81520569 0.81704925 0.84461608 0.84549406\n",
      " 0.83478337 0.80625082 0.80739216 0.80537284 0.83522236 0.83434438\n",
      " 0.81950743 0.8200343  0.81968305 0.83425663 0.82056103 0.81037708\n",
      " 0.82222911 0.80159783 0.80879674 0.81546905 0.84637204 0.82187787\n",
      " 0.8242483  0.83390539 0.86638871 0.87903071 0.88271811 0.8778895\n",
      " 0.8770994  0.86533511 0.8726219  0.88140114 0.88614201 0.87148069\n",
      " 0.89460558 0.89690274 0.90118229 0.90629721 0.91157424 0.916713\n",
      " 0.92159766 0.92618442 0.93045288 0.934394  ]\n",
      "10 day output[[0.93800616]]\n",
      "11 day input[0.6093762  0.62715419 0.62452045 0.66262235 0.70318249 0.71213729\n",
      " 0.70370922 0.73118824 0.74339145 0.76130106 0.75893069 0.78193234\n",
      " 0.75928187 0.7447961  0.76858785 0.77806945 0.77113384 0.75998422\n",
      " 0.76876347 0.77631362 0.78860452 0.79984201 0.75620914 0.75383871\n",
      " 0.7555946  0.76858785 0.7692902  0.76885121 0.78122998 0.76604186\n",
      " 0.76419822 0.74146001 0.76437385 0.75691143 0.72240899 0.7217067\n",
      " 0.73987974 0.73048595 0.73891402 0.7353145  0.75348753 0.73856284\n",
      " 0.73162723 0.70291912 0.71029366 0.72706205 0.77280191 0.78043981\n",
      " 0.7748211  0.76621748 0.75480443 0.72627188 0.73311968 0.7469031\n",
      " 0.75489224 0.81520569 0.81704925 0.84461608 0.84549406 0.83478337\n",
      " 0.80625082 0.80739216 0.80537284 0.83522236 0.83434438 0.81950743\n",
      " 0.8200343  0.81968305 0.83425663 0.82056103 0.81037708 0.82222911\n",
      " 0.80159783 0.80879674 0.81546905 0.84637204 0.82187787 0.8242483\n",
      " 0.83390539 0.86638871 0.87903071 0.88271811 0.8778895  0.8770994\n",
      " 0.86533511 0.8726219  0.88140114 0.88614201 0.87148069 0.89460558\n",
      " 0.89690274 0.90118229 0.90629721 0.91157424 0.916713   0.92159766\n",
      " 0.92618442 0.93045288 0.934394   0.93800616]\n",
      "11 day output[[0.9412967]]\n",
      "12 day input[0.62715419 0.62452045 0.66262235 0.70318249 0.71213729 0.70370922\n",
      " 0.73118824 0.74339145 0.76130106 0.75893069 0.78193234 0.75928187\n",
      " 0.7447961  0.76858785 0.77806945 0.77113384 0.75998422 0.76876347\n",
      " 0.77631362 0.78860452 0.79984201 0.75620914 0.75383871 0.7555946\n",
      " 0.76858785 0.7692902  0.76885121 0.78122998 0.76604186 0.76419822\n",
      " 0.74146001 0.76437385 0.75691143 0.72240899 0.7217067  0.73987974\n",
      " 0.73048595 0.73891402 0.7353145  0.75348753 0.73856284 0.73162723\n",
      " 0.70291912 0.71029366 0.72706205 0.77280191 0.78043981 0.7748211\n",
      " 0.76621748 0.75480443 0.72627188 0.73311968 0.7469031  0.75489224\n",
      " 0.81520569 0.81704925 0.84461608 0.84549406 0.83478337 0.80625082\n",
      " 0.80739216 0.80537284 0.83522236 0.83434438 0.81950743 0.8200343\n",
      " 0.81968305 0.83425663 0.82056103 0.81037708 0.82222911 0.80159783\n",
      " 0.80879674 0.81546905 0.84637204 0.82187787 0.8242483  0.83390539\n",
      " 0.86638871 0.87903071 0.88271811 0.8778895  0.8770994  0.86533511\n",
      " 0.8726219  0.88140114 0.88614201 0.87148069 0.89460558 0.89690274\n",
      " 0.90118229 0.90629721 0.91157424 0.916713   0.92159766 0.92618442\n",
      " 0.93045288 0.934394   0.93800616 0.9412967 ]\n",
      "12 day output[[0.94427973]]\n",
      "13 day input[0.62452045 0.66262235 0.70318249 0.71213729 0.70370922 0.73118824\n",
      " 0.74339145 0.76130106 0.75893069 0.78193234 0.75928187 0.7447961\n",
      " 0.76858785 0.77806945 0.77113384 0.75998422 0.76876347 0.77631362\n",
      " 0.78860452 0.79984201 0.75620914 0.75383871 0.7555946  0.76858785\n",
      " 0.7692902  0.76885121 0.78122998 0.76604186 0.76419822 0.74146001\n",
      " 0.76437385 0.75691143 0.72240899 0.7217067  0.73987974 0.73048595\n",
      " 0.73891402 0.7353145  0.75348753 0.73856284 0.73162723 0.70291912\n",
      " 0.71029366 0.72706205 0.77280191 0.78043981 0.7748211  0.76621748\n",
      " 0.75480443 0.72627188 0.73311968 0.7469031  0.75489224 0.81520569\n",
      " 0.81704925 0.84461608 0.84549406 0.83478337 0.80625082 0.80739216\n",
      " 0.80537284 0.83522236 0.83434438 0.81950743 0.8200343  0.81968305\n",
      " 0.83425663 0.82056103 0.81037708 0.82222911 0.80159783 0.80879674\n",
      " 0.81546905 0.84637204 0.82187787 0.8242483  0.83390539 0.86638871\n",
      " 0.87903071 0.88271811 0.8778895  0.8770994  0.86533511 0.8726219\n",
      " 0.88140114 0.88614201 0.87148069 0.89460558 0.89690274 0.90118229\n",
      " 0.90629721 0.91157424 0.916713   0.92159766 0.92618442 0.93045288\n",
      " 0.934394   0.93800616 0.9412967  0.94427973]\n",
      "13 day output[[0.946977]]\n",
      "14 day input[0.66262235 0.70318249 0.71213729 0.70370922 0.73118824 0.74339145\n",
      " 0.76130106 0.75893069 0.78193234 0.75928187 0.7447961  0.76858785\n",
      " 0.77806945 0.77113384 0.75998422 0.76876347 0.77631362 0.78860452\n",
      " 0.79984201 0.75620914 0.75383871 0.7555946  0.76858785 0.7692902\n",
      " 0.76885121 0.78122998 0.76604186 0.76419822 0.74146001 0.76437385\n",
      " 0.75691143 0.72240899 0.7217067  0.73987974 0.73048595 0.73891402\n",
      " 0.7353145  0.75348753 0.73856284 0.73162723 0.70291912 0.71029366\n",
      " 0.72706205 0.77280191 0.78043981 0.7748211  0.76621748 0.75480443\n",
      " 0.72627188 0.73311968 0.7469031  0.75489224 0.81520569 0.81704925\n",
      " 0.84461608 0.84549406 0.83478337 0.80625082 0.80739216 0.80537284\n",
      " 0.83522236 0.83434438 0.81950743 0.8200343  0.81968305 0.83425663\n",
      " 0.82056103 0.81037708 0.82222911 0.80159783 0.80879674 0.81546905\n",
      " 0.84637204 0.82187787 0.8242483  0.83390539 0.86638871 0.87903071\n",
      " 0.88271811 0.8778895  0.8770994  0.86533511 0.8726219  0.88140114\n",
      " 0.88614201 0.87148069 0.89460558 0.89690274 0.90118229 0.90629721\n",
      " 0.91157424 0.916713   0.92159766 0.92618442 0.93045288 0.934394\n",
      " 0.93800616 0.9412967  0.94427973 0.94697702]\n",
      "14 day output[[0.94941515]]\n",
      "15 day input[0.70318249 0.71213729 0.70370922 0.73118824 0.74339145 0.76130106\n",
      " 0.75893069 0.78193234 0.75928187 0.7447961  0.76858785 0.77806945\n",
      " 0.77113384 0.75998422 0.76876347 0.77631362 0.78860452 0.79984201\n",
      " 0.75620914 0.75383871 0.7555946  0.76858785 0.7692902  0.76885121\n",
      " 0.78122998 0.76604186 0.76419822 0.74146001 0.76437385 0.75691143\n",
      " 0.72240899 0.7217067  0.73987974 0.73048595 0.73891402 0.7353145\n",
      " 0.75348753 0.73856284 0.73162723 0.70291912 0.71029366 0.72706205\n",
      " 0.77280191 0.78043981 0.7748211  0.76621748 0.75480443 0.72627188\n",
      " 0.73311968 0.7469031  0.75489224 0.81520569 0.81704925 0.84461608\n",
      " 0.84549406 0.83478337 0.80625082 0.80739216 0.80537284 0.83522236\n",
      " 0.83434438 0.81950743 0.8200343  0.81968305 0.83425663 0.82056103\n",
      " 0.81037708 0.82222911 0.80159783 0.80879674 0.81546905 0.84637204\n",
      " 0.82187787 0.8242483  0.83390539 0.86638871 0.87903071 0.88271811\n",
      " 0.8778895  0.8770994  0.86533511 0.8726219  0.88140114 0.88614201\n",
      " 0.87148069 0.89460558 0.89690274 0.90118229 0.90629721 0.91157424\n",
      " 0.916713   0.92159766 0.92618442 0.93045288 0.934394   0.93800616\n",
      " 0.9412967  0.94427973 0.94697702 0.94941515]\n",
      "15 day output[[0.9516245]]\n",
      "16 day input[0.71213729 0.70370922 0.73118824 0.74339145 0.76130106 0.75893069\n",
      " 0.78193234 0.75928187 0.7447961  0.76858785 0.77806945 0.77113384\n",
      " 0.75998422 0.76876347 0.77631362 0.78860452 0.79984201 0.75620914\n",
      " 0.75383871 0.7555946  0.76858785 0.7692902  0.76885121 0.78122998\n",
      " 0.76604186 0.76419822 0.74146001 0.76437385 0.75691143 0.72240899\n",
      " 0.7217067  0.73987974 0.73048595 0.73891402 0.7353145  0.75348753\n",
      " 0.73856284 0.73162723 0.70291912 0.71029366 0.72706205 0.77280191\n",
      " 0.78043981 0.7748211  0.76621748 0.75480443 0.72627188 0.73311968\n",
      " 0.7469031  0.75489224 0.81520569 0.81704925 0.84461608 0.84549406\n",
      " 0.83478337 0.80625082 0.80739216 0.80537284 0.83522236 0.83434438\n",
      " 0.81950743 0.8200343  0.81968305 0.83425663 0.82056103 0.81037708\n",
      " 0.82222911 0.80159783 0.80879674 0.81546905 0.84637204 0.82187787\n",
      " 0.8242483  0.83390539 0.86638871 0.87903071 0.88271811 0.8778895\n",
      " 0.8770994  0.86533511 0.8726219  0.88140114 0.88614201 0.87148069\n",
      " 0.89460558 0.89690274 0.90118229 0.90629721 0.91157424 0.916713\n",
      " 0.92159766 0.92618442 0.93045288 0.934394   0.93800616 0.9412967\n",
      " 0.94427973 0.94697702 0.94941515 0.95162451]\n",
      "16 day output[[0.9536376]]\n",
      "17 day input[0.70370922 0.73118824 0.74339145 0.76130106 0.75893069 0.78193234\n",
      " 0.75928187 0.7447961  0.76858785 0.77806945 0.77113384 0.75998422\n",
      " 0.76876347 0.77631362 0.78860452 0.79984201 0.75620914 0.75383871\n",
      " 0.7555946  0.76858785 0.7692902  0.76885121 0.78122998 0.76604186\n",
      " 0.76419822 0.74146001 0.76437385 0.75691143 0.72240899 0.7217067\n",
      " 0.73987974 0.73048595 0.73891402 0.7353145  0.75348753 0.73856284\n",
      " 0.73162723 0.70291912 0.71029366 0.72706205 0.77280191 0.78043981\n",
      " 0.7748211  0.76621748 0.75480443 0.72627188 0.73311968 0.7469031\n",
      " 0.75489224 0.81520569 0.81704925 0.84461608 0.84549406 0.83478337\n",
      " 0.80625082 0.80739216 0.80537284 0.83522236 0.83434438 0.81950743\n",
      " 0.8200343  0.81968305 0.83425663 0.82056103 0.81037708 0.82222911\n",
      " 0.80159783 0.80879674 0.81546905 0.84637204 0.82187787 0.8242483\n",
      " 0.83390539 0.86638871 0.87903071 0.88271811 0.8778895  0.8770994\n",
      " 0.86533511 0.8726219  0.88140114 0.88614201 0.87148069 0.89460558\n",
      " 0.89690274 0.90118229 0.90629721 0.91157424 0.916713   0.92159766\n",
      " 0.92618442 0.93045288 0.934394   0.93800616 0.9412967  0.94427973\n",
      " 0.94697702 0.94941515 0.95162451 0.9536376 ]\n",
      "17 day output[[0.9554891]]\n",
      "18 day input[0.73118824 0.74339145 0.76130106 0.75893069 0.78193234 0.75928187\n",
      " 0.7447961  0.76858785 0.77806945 0.77113384 0.75998422 0.76876347\n",
      " 0.77631362 0.78860452 0.79984201 0.75620914 0.75383871 0.7555946\n",
      " 0.76858785 0.7692902  0.76885121 0.78122998 0.76604186 0.76419822\n",
      " 0.74146001 0.76437385 0.75691143 0.72240899 0.7217067  0.73987974\n",
      " 0.73048595 0.73891402 0.7353145  0.75348753 0.73856284 0.73162723\n",
      " 0.70291912 0.71029366 0.72706205 0.77280191 0.78043981 0.7748211\n",
      " 0.76621748 0.75480443 0.72627188 0.73311968 0.7469031  0.75489224\n",
      " 0.81520569 0.81704925 0.84461608 0.84549406 0.83478337 0.80625082\n",
      " 0.80739216 0.80537284 0.83522236 0.83434438 0.81950743 0.8200343\n",
      " 0.81968305 0.83425663 0.82056103 0.81037708 0.82222911 0.80159783\n",
      " 0.80879674 0.81546905 0.84637204 0.82187787 0.8242483  0.83390539\n",
      " 0.86638871 0.87903071 0.88271811 0.8778895  0.8770994  0.86533511\n",
      " 0.8726219  0.88140114 0.88614201 0.87148069 0.89460558 0.89690274\n",
      " 0.90118229 0.90629721 0.91157424 0.916713   0.92159766 0.92618442\n",
      " 0.93045288 0.934394   0.93800616 0.9412967  0.94427973 0.94697702\n",
      " 0.94941515 0.95162451 0.9536376  0.9554891 ]\n",
      "18 day output[[0.957213]]\n",
      "19 day input[0.74339145 0.76130106 0.75893069 0.78193234 0.75928187 0.7447961\n",
      " 0.76858785 0.77806945 0.77113384 0.75998422 0.76876347 0.77631362\n",
      " 0.78860452 0.79984201 0.75620914 0.75383871 0.7555946  0.76858785\n",
      " 0.7692902  0.76885121 0.78122998 0.76604186 0.76419822 0.74146001\n",
      " 0.76437385 0.75691143 0.72240899 0.7217067  0.73987974 0.73048595\n",
      " 0.73891402 0.7353145  0.75348753 0.73856284 0.73162723 0.70291912\n",
      " 0.71029366 0.72706205 0.77280191 0.78043981 0.7748211  0.76621748\n",
      " 0.75480443 0.72627188 0.73311968 0.7469031  0.75489224 0.81520569\n",
      " 0.81704925 0.84461608 0.84549406 0.83478337 0.80625082 0.80739216\n",
      " 0.80537284 0.83522236 0.83434438 0.81950743 0.8200343  0.81968305\n",
      " 0.83425663 0.82056103 0.81037708 0.82222911 0.80159783 0.80879674\n",
      " 0.81546905 0.84637204 0.82187787 0.8242483  0.83390539 0.86638871\n",
      " 0.87903071 0.88271811 0.8778895  0.8770994  0.86533511 0.8726219\n",
      " 0.88140114 0.88614201 0.87148069 0.89460558 0.89690274 0.90118229\n",
      " 0.90629721 0.91157424 0.916713   0.92159766 0.92618442 0.93045288\n",
      " 0.934394   0.93800616 0.9412967  0.94427973 0.94697702 0.94941515\n",
      " 0.95162451 0.9536376  0.9554891  0.95721298]\n",
      "19 day output[[0.9588419]]\n",
      "20 day input[0.76130106 0.75893069 0.78193234 0.75928187 0.7447961  0.76858785\n",
      " 0.77806945 0.77113384 0.75998422 0.76876347 0.77631362 0.78860452\n",
      " 0.79984201 0.75620914 0.75383871 0.7555946  0.76858785 0.7692902\n",
      " 0.76885121 0.78122998 0.76604186 0.76419822 0.74146001 0.76437385\n",
      " 0.75691143 0.72240899 0.7217067  0.73987974 0.73048595 0.73891402\n",
      " 0.7353145  0.75348753 0.73856284 0.73162723 0.70291912 0.71029366\n",
      " 0.72706205 0.77280191 0.78043981 0.7748211  0.76621748 0.75480443\n",
      " 0.72627188 0.73311968 0.7469031  0.75489224 0.81520569 0.81704925\n",
      " 0.84461608 0.84549406 0.83478337 0.80625082 0.80739216 0.80537284\n",
      " 0.83522236 0.83434438 0.81950743 0.8200343  0.81968305 0.83425663\n",
      " 0.82056103 0.81037708 0.82222911 0.80159783 0.80879674 0.81546905\n",
      " 0.84637204 0.82187787 0.8242483  0.83390539 0.86638871 0.87903071\n",
      " 0.88271811 0.8778895  0.8770994  0.86533511 0.8726219  0.88140114\n",
      " 0.88614201 0.87148069 0.89460558 0.89690274 0.90118229 0.90629721\n",
      " 0.91157424 0.916713   0.92159766 0.92618442 0.93045288 0.934394\n",
      " 0.93800616 0.9412967  0.94427973 0.94697702 0.94941515 0.95162451\n",
      " 0.9536376  0.9554891  0.95721298 0.95884192]\n",
      "20 day output[[0.9604069]]\n",
      "21 day input[0.75893069 0.78193234 0.75928187 0.7447961  0.76858785 0.77806945\n",
      " 0.77113384 0.75998422 0.76876347 0.77631362 0.78860452 0.79984201\n",
      " 0.75620914 0.75383871 0.7555946  0.76858785 0.7692902  0.76885121\n",
      " 0.78122998 0.76604186 0.76419822 0.74146001 0.76437385 0.75691143\n",
      " 0.72240899 0.7217067  0.73987974 0.73048595 0.73891402 0.7353145\n",
      " 0.75348753 0.73856284 0.73162723 0.70291912 0.71029366 0.72706205\n",
      " 0.77280191 0.78043981 0.7748211  0.76621748 0.75480443 0.72627188\n",
      " 0.73311968 0.7469031  0.75489224 0.81520569 0.81704925 0.84461608\n",
      " 0.84549406 0.83478337 0.80625082 0.80739216 0.80537284 0.83522236\n",
      " 0.83434438 0.81950743 0.8200343  0.81968305 0.83425663 0.82056103\n",
      " 0.81037708 0.82222911 0.80159783 0.80879674 0.81546905 0.84637204\n",
      " 0.82187787 0.8242483  0.83390539 0.86638871 0.87903071 0.88271811\n",
      " 0.8778895  0.8770994  0.86533511 0.8726219  0.88140114 0.88614201\n",
      " 0.87148069 0.89460558 0.89690274 0.90118229 0.90629721 0.91157424\n",
      " 0.916713   0.92159766 0.92618442 0.93045288 0.934394   0.93800616\n",
      " 0.9412967  0.94427973 0.94697702 0.94941515 0.95162451 0.9536376\n",
      " 0.9554891  0.95721298 0.95884192 0.9604069 ]\n",
      "21 day output[[0.96193665]]\n",
      "22 day input[0.78193234 0.75928187 0.7447961  0.76858785 0.77806945 0.77113384\n",
      " 0.75998422 0.76876347 0.77631362 0.78860452 0.79984201 0.75620914\n",
      " 0.75383871 0.7555946  0.76858785 0.7692902  0.76885121 0.78122998\n",
      " 0.76604186 0.76419822 0.74146001 0.76437385 0.75691143 0.72240899\n",
      " 0.7217067  0.73987974 0.73048595 0.73891402 0.7353145  0.75348753\n",
      " 0.73856284 0.73162723 0.70291912 0.71029366 0.72706205 0.77280191\n",
      " 0.78043981 0.7748211  0.76621748 0.75480443 0.72627188 0.73311968\n",
      " 0.7469031  0.75489224 0.81520569 0.81704925 0.84461608 0.84549406\n",
      " 0.83478337 0.80625082 0.80739216 0.80537284 0.83522236 0.83434438\n",
      " 0.81950743 0.8200343  0.81968305 0.83425663 0.82056103 0.81037708\n",
      " 0.82222911 0.80159783 0.80879674 0.81546905 0.84637204 0.82187787\n",
      " 0.8242483  0.83390539 0.86638871 0.87903071 0.88271811 0.8778895\n",
      " 0.8770994  0.86533511 0.8726219  0.88140114 0.88614201 0.87148069\n",
      " 0.89460558 0.89690274 0.90118229 0.90629721 0.91157424 0.916713\n",
      " 0.92159766 0.92618442 0.93045288 0.934394   0.93800616 0.9412967\n",
      " 0.94427973 0.94697702 0.94941515 0.95162451 0.9536376  0.9554891\n",
      " 0.95721298 0.95884192 0.9604069  0.96193665]\n",
      "22 day output[[0.9634558]]\n",
      "23 day input[0.75928187 0.7447961  0.76858785 0.77806945 0.77113384 0.75998422\n",
      " 0.76876347 0.77631362 0.78860452 0.79984201 0.75620914 0.75383871\n",
      " 0.7555946  0.76858785 0.7692902  0.76885121 0.78122998 0.76604186\n",
      " 0.76419822 0.74146001 0.76437385 0.75691143 0.72240899 0.7217067\n",
      " 0.73987974 0.73048595 0.73891402 0.7353145  0.75348753 0.73856284\n",
      " 0.73162723 0.70291912 0.71029366 0.72706205 0.77280191 0.78043981\n",
      " 0.7748211  0.76621748 0.75480443 0.72627188 0.73311968 0.7469031\n",
      " 0.75489224 0.81520569 0.81704925 0.84461608 0.84549406 0.83478337\n",
      " 0.80625082 0.80739216 0.80537284 0.83522236 0.83434438 0.81950743\n",
      " 0.8200343  0.81968305 0.83425663 0.82056103 0.81037708 0.82222911\n",
      " 0.80159783 0.80879674 0.81546905 0.84637204 0.82187787 0.8242483\n",
      " 0.83390539 0.86638871 0.87903071 0.88271811 0.8778895  0.8770994\n",
      " 0.86533511 0.8726219  0.88140114 0.88614201 0.87148069 0.89460558\n",
      " 0.89690274 0.90118229 0.90629721 0.91157424 0.916713   0.92159766\n",
      " 0.92618442 0.93045288 0.934394   0.93800616 0.9412967  0.94427973\n",
      " 0.94697702 0.94941515 0.95162451 0.9536376  0.9554891  0.95721298\n",
      " 0.95884192 0.9604069  0.96193665 0.9634558 ]\n",
      "23 day output[[0.96498543]]\n",
      "24 day input[0.7447961  0.76858785 0.77806945 0.77113384 0.75998422 0.76876347\n",
      " 0.77631362 0.78860452 0.79984201 0.75620914 0.75383871 0.7555946\n",
      " 0.76858785 0.7692902  0.76885121 0.78122998 0.76604186 0.76419822\n",
      " 0.74146001 0.76437385 0.75691143 0.72240899 0.7217067  0.73987974\n",
      " 0.73048595 0.73891402 0.7353145  0.75348753 0.73856284 0.73162723\n",
      " 0.70291912 0.71029366 0.72706205 0.77280191 0.78043981 0.7748211\n",
      " 0.76621748 0.75480443 0.72627188 0.73311968 0.7469031  0.75489224\n",
      " 0.81520569 0.81704925 0.84461608 0.84549406 0.83478337 0.80625082\n",
      " 0.80739216 0.80537284 0.83522236 0.83434438 0.81950743 0.8200343\n",
      " 0.81968305 0.83425663 0.82056103 0.81037708 0.82222911 0.80159783\n",
      " 0.80879674 0.81546905 0.84637204 0.82187787 0.8242483  0.83390539\n",
      " 0.86638871 0.87903071 0.88271811 0.8778895  0.8770994  0.86533511\n",
      " 0.8726219  0.88140114 0.88614201 0.87148069 0.89460558 0.89690274\n",
      " 0.90118229 0.90629721 0.91157424 0.916713   0.92159766 0.92618442\n",
      " 0.93045288 0.934394   0.93800616 0.9412967  0.94427973 0.94697702\n",
      " 0.94941515 0.95162451 0.9536376  0.9554891  0.95721298 0.95884192\n",
      " 0.9604069  0.96193665 0.9634558  0.96498543]\n",
      "24 day output[[0.96654385]]\n",
      "25 day input[0.76858785 0.77806945 0.77113384 0.75998422 0.76876347 0.77631362\n",
      " 0.78860452 0.79984201 0.75620914 0.75383871 0.7555946  0.76858785\n",
      " 0.7692902  0.76885121 0.78122998 0.76604186 0.76419822 0.74146001\n",
      " 0.76437385 0.75691143 0.72240899 0.7217067  0.73987974 0.73048595\n",
      " 0.73891402 0.7353145  0.75348753 0.73856284 0.73162723 0.70291912\n",
      " 0.71029366 0.72706205 0.77280191 0.78043981 0.7748211  0.76621748\n",
      " 0.75480443 0.72627188 0.73311968 0.7469031  0.75489224 0.81520569\n",
      " 0.81704925 0.84461608 0.84549406 0.83478337 0.80625082 0.80739216\n",
      " 0.80537284 0.83522236 0.83434438 0.81950743 0.8200343  0.81968305\n",
      " 0.83425663 0.82056103 0.81037708 0.82222911 0.80159783 0.80879674\n",
      " 0.81546905 0.84637204 0.82187787 0.8242483  0.83390539 0.86638871\n",
      " 0.87903071 0.88271811 0.8778895  0.8770994  0.86533511 0.8726219\n",
      " 0.88140114 0.88614201 0.87148069 0.89460558 0.89690274 0.90118229\n",
      " 0.90629721 0.91157424 0.916713   0.92159766 0.92618442 0.93045288\n",
      " 0.934394   0.93800616 0.9412967  0.94427973 0.94697702 0.94941515\n",
      " 0.95162451 0.9536376  0.9554891  0.95721298 0.95884192 0.9604069\n",
      " 0.96193665 0.9634558  0.96498543 0.96654385]\n",
      "25 day output[[0.9681441]]\n",
      "26 day input[0.77806945 0.77113384 0.75998422 0.76876347 0.77631362 0.78860452\n",
      " 0.79984201 0.75620914 0.75383871 0.7555946  0.76858785 0.7692902\n",
      " 0.76885121 0.78122998 0.76604186 0.76419822 0.74146001 0.76437385\n",
      " 0.75691143 0.72240899 0.7217067  0.73987974 0.73048595 0.73891402\n",
      " 0.7353145  0.75348753 0.73856284 0.73162723 0.70291912 0.71029366\n",
      " 0.72706205 0.77280191 0.78043981 0.7748211  0.76621748 0.75480443\n",
      " 0.72627188 0.73311968 0.7469031  0.75489224 0.81520569 0.81704925\n",
      " 0.84461608 0.84549406 0.83478337 0.80625082 0.80739216 0.80537284\n",
      " 0.83522236 0.83434438 0.81950743 0.8200343  0.81968305 0.83425663\n",
      " 0.82056103 0.81037708 0.82222911 0.80159783 0.80879674 0.81546905\n",
      " 0.84637204 0.82187787 0.8242483  0.83390539 0.86638871 0.87903071\n",
      " 0.88271811 0.8778895  0.8770994  0.86533511 0.8726219  0.88140114\n",
      " 0.88614201 0.87148069 0.89460558 0.89690274 0.90118229 0.90629721\n",
      " 0.91157424 0.916713   0.92159766 0.92618442 0.93045288 0.934394\n",
      " 0.93800616 0.9412967  0.94427973 0.94697702 0.94941515 0.95162451\n",
      " 0.9536376  0.9554891  0.95721298 0.95884192 0.9604069  0.96193665\n",
      " 0.9634558  0.96498543 0.96654385 0.96814412]\n",
      "26 day output[[0.96979517]]\n",
      "27 day input[0.77113384 0.75998422 0.76876347 0.77631362 0.78860452 0.79984201\n",
      " 0.75620914 0.75383871 0.7555946  0.76858785 0.7692902  0.76885121\n",
      " 0.78122998 0.76604186 0.76419822 0.74146001 0.76437385 0.75691143\n",
      " 0.72240899 0.7217067  0.73987974 0.73048595 0.73891402 0.7353145\n",
      " 0.75348753 0.73856284 0.73162723 0.70291912 0.71029366 0.72706205\n",
      " 0.77280191 0.78043981 0.7748211  0.76621748 0.75480443 0.72627188\n",
      " 0.73311968 0.7469031  0.75489224 0.81520569 0.81704925 0.84461608\n",
      " 0.84549406 0.83478337 0.80625082 0.80739216 0.80537284 0.83522236\n",
      " 0.83434438 0.81950743 0.8200343  0.81968305 0.83425663 0.82056103\n",
      " 0.81037708 0.82222911 0.80159783 0.80879674 0.81546905 0.84637204\n",
      " 0.82187787 0.8242483  0.83390539 0.86638871 0.87903071 0.88271811\n",
      " 0.8778895  0.8770994  0.86533511 0.8726219  0.88140114 0.88614201\n",
      " 0.87148069 0.89460558 0.89690274 0.90118229 0.90629721 0.91157424\n",
      " 0.916713   0.92159766 0.92618442 0.93045288 0.934394   0.93800616\n",
      " 0.9412967  0.94427973 0.94697702 0.94941515 0.95162451 0.9536376\n",
      " 0.9554891  0.95721298 0.95884192 0.9604069  0.96193665 0.9634558\n",
      " 0.96498543 0.96654385 0.96814412 0.96979517]\n",
      "27 day output[[0.97150284]]\n",
      "28 day input[0.75998422 0.76876347 0.77631362 0.78860452 0.79984201 0.75620914\n",
      " 0.75383871 0.7555946  0.76858785 0.7692902  0.76885121 0.78122998\n",
      " 0.76604186 0.76419822 0.74146001 0.76437385 0.75691143 0.72240899\n",
      " 0.7217067  0.73987974 0.73048595 0.73891402 0.7353145  0.75348753\n",
      " 0.73856284 0.73162723 0.70291912 0.71029366 0.72706205 0.77280191\n",
      " 0.78043981 0.7748211  0.76621748 0.75480443 0.72627188 0.73311968\n",
      " 0.7469031  0.75489224 0.81520569 0.81704925 0.84461608 0.84549406\n",
      " 0.83478337 0.80625082 0.80739216 0.80537284 0.83522236 0.83434438\n",
      " 0.81950743 0.8200343  0.81968305 0.83425663 0.82056103 0.81037708\n",
      " 0.82222911 0.80159783 0.80879674 0.81546905 0.84637204 0.82187787\n",
      " 0.8242483  0.83390539 0.86638871 0.87903071 0.88271811 0.8778895\n",
      " 0.8770994  0.86533511 0.8726219  0.88140114 0.88614201 0.87148069\n",
      " 0.89460558 0.89690274 0.90118229 0.90629721 0.91157424 0.916713\n",
      " 0.92159766 0.92618442 0.93045288 0.934394   0.93800616 0.9412967\n",
      " 0.94427973 0.94697702 0.94941515 0.95162451 0.9536376  0.9554891\n",
      " 0.95721298 0.95884192 0.9604069  0.96193665 0.9634558  0.96498543\n",
      " 0.96654385 0.96814412 0.96979517 0.97150284]\n",
      "28 day output[[0.97326875]]\n",
      "29 day input[0.76876347 0.77631362 0.78860452 0.79984201 0.75620914 0.75383871\n",
      " 0.7555946  0.76858785 0.7692902  0.76885121 0.78122998 0.76604186\n",
      " 0.76419822 0.74146001 0.76437385 0.75691143 0.72240899 0.7217067\n",
      " 0.73987974 0.73048595 0.73891402 0.7353145  0.75348753 0.73856284\n",
      " 0.73162723 0.70291912 0.71029366 0.72706205 0.77280191 0.78043981\n",
      " 0.7748211  0.76621748 0.75480443 0.72627188 0.73311968 0.7469031\n",
      " 0.75489224 0.81520569 0.81704925 0.84461608 0.84549406 0.83478337\n",
      " 0.80625082 0.80739216 0.80537284 0.83522236 0.83434438 0.81950743\n",
      " 0.8200343  0.81968305 0.83425663 0.82056103 0.81037708 0.82222911\n",
      " 0.80159783 0.80879674 0.81546905 0.84637204 0.82187787 0.8242483\n",
      " 0.83390539 0.86638871 0.87903071 0.88271811 0.8778895  0.8770994\n",
      " 0.86533511 0.8726219  0.88140114 0.88614201 0.87148069 0.89460558\n",
      " 0.89690274 0.90118229 0.90629721 0.91157424 0.916713   0.92159766\n",
      " 0.92618442 0.93045288 0.934394   0.93800616 0.9412967  0.94427973\n",
      " 0.94697702 0.94941515 0.95162451 0.9536376  0.9554891  0.95721298\n",
      " 0.95884192 0.9604069  0.96193665 0.9634558  0.96498543 0.96654385\n",
      " 0.96814412 0.96979517 0.97150284 0.97326875]\n",
      "29 day output[[0.9750916]]\n",
      "[[0.8946055769920349], [0.8969027400016785], [0.9011822938919067], [0.9062972068786621], [0.9115742444992065], [0.9167129993438721], [0.9215976595878601], [0.9261844158172607], [0.9304528832435608], [0.9343940019607544], [0.9380061626434326], [0.9412966966629028], [0.9442797303199768], [0.9469770193099976], [0.9494151473045349], [0.9516245126724243], [0.9536375999450684], [0.9554890990257263], [0.9572129845619202], [0.9588419198989868], [0.9604068994522095], [0.9619366526603699], [0.9634557962417603], [0.9649854302406311], [0.9665438532829285], [0.9681441187858582], [0.9697951674461365], [0.9715028405189514], [0.9732687473297119], [0.9750915765762329]]\n"
     ]
    }
   ],
   "source": [
    "#demonstrate prediction for next 10 days\n",
    "from numpy import array\n",
    "\n",
    "lst_output = []\n",
    "n_steps = 100\n",
    "i=0\n",
    "while(i<30):\n",
    "    if(len(temp_input)>100):\n",
    "        #print(temp_input)\n",
    "        x_input = np.array(temp_input[1:])\n",
    "        print(\"{} day input{}\". format(i,x_input))\n",
    "        x_input = x_input.reshape((1, n_steps, 1))\n",
    "        x_input = x_input.reshape((1, n_steps, 1))\n",
    "        #print(x_input)\n",
    "        yhat = model.predict(x_input,verbose = 0)\n",
    "        print(\"{} day output{}\".format(i,yhat))\n",
    "        temp_input.extend(yhat[0].tolist())\n",
    "        temp_input = temp_input[1:]\n",
    "        #print(temp_input)\n",
    "        lst_output.extend(yhat.tolist())\n",
    "        i=i+1\n",
    "    else:\n",
    "        x_input = x_input.reshape((1,n_steps,1))\n",
    "        yhat = model.predict(x_input,verbose = 0)\n",
    "        print(yhat[0])\n",
    "        temp_input.extend(yhat[0].tolist())\n",
    "        print(len(temp_input))\n",
    "        lst_output.extend(yhat.tolist())\n",
    "        i = i+1\n",
    "        \n",
    "        \n",
    "print(lst_output)     "
   ]
  },
  {
   "cell_type": "code",
   "execution_count": 54,
   "id": "bc2d5d77",
   "metadata": {},
   "outputs": [],
   "source": [
    "day_new = np.arange(1,101)\n",
    "day_pred = np.arange(101,131)"
   ]
  },
  {
   "cell_type": "code",
   "execution_count": 55,
   "id": "24a7a838",
   "metadata": {},
   "outputs": [],
   "source": [
    "import matplotlib.pyplot as plt"
   ]
  },
  {
   "cell_type": "code",
   "execution_count": 56,
   "id": "8d8432eb",
   "metadata": {},
   "outputs": [
    {
     "data": {
      "text/plain": [
       "1762"
      ]
     },
     "execution_count": 56,
     "metadata": {},
     "output_type": "execute_result"
    }
   ],
   "source": [
    "len(google_data1)"
   ]
  },
  {
   "cell_type": "code",
   "execution_count": 57,
   "id": "8aa2a2e2",
   "metadata": {},
   "outputs": [],
   "source": [
    "google_data3 = google_data1 . tolist()\n",
    "google_data3.extend(lst_output)"
   ]
  },
  {
   "cell_type": "code",
   "execution_count": 60,
   "id": "53e178ca",
   "metadata": {},
   "outputs": [
    {
     "data": {
      "text/plain": [
       "[<matplotlib.lines.Line2D at 0x256b3205410>]"
      ]
     },
     "execution_count": 60,
     "metadata": {},
     "output_type": "execute_result"
    },
    {
     "data": {
      "image/png": "[encoded data removed]",
      "text/plain": [
       "<Figure size 640x480 with 1 Axes>"
      ]
     },
     "metadata": {},
     "output_type": "display_data"
    }
   ],
   "source": [
    "plt.plot(day_new,scaler.inverse_transform(google_data1[1662:]))\n",
    "plt.plot(day_pred,scaler.inverse_transform(lst_output))"
   ]
  },
  {
   "cell_type": "code",
   "execution_count": 61,
   "id": "19da460a",
   "metadata": {},
   "outputs": [
    {
     "data": {
      "text/plain": [
       "[<matplotlib.lines.Line2D at 0x256baba23d0>]"
      ]
     },
     "execution_count": 61,
     "metadata": {},
     "output_type": "execute_result"
    },
    {
     "data": {
      "image/png": "[encoded data removed]",
      "text/plain": [
       "<Figure size 640x480 with 1 Axes>"
      ]
     },
     "metadata": {},
     "output_type": "display_data"
    }
   ],
   "source": [
    "plt.plot(google_data3[1000:])"
   ]
  },
  {
   "cell_type": "code",
   "execution_count": 62,
   "id": "24382fad",
   "metadata": {},
   "outputs": [
    {
     "data": {
      "text/plain": [
       "[<matplotlib.lines.Line2D at 0x256b7d25210>]"
      ]
     },
     "execution_count": 62,
     "metadata": {},
     "output_type": "execute_result"
    },
    {
     "data": {
      "image/png": "[encoded data removed]",
      "text/plain": [
       "<Figure size 640x480 with 1 Axes>"
      ]
     },
     "metadata": {},
     "output_type": "display_data"
    }
   ],
   "source": [
    "google_data3 = google_data1.tolist()\n",
    "google_data3.extend(lst_output)\n",
    "plt.plot(google_data3[1000:])"
   ]
  },
  {
   "cell_type": "markdown",
   "id": "be92809f",
   "metadata": {},
   "source": [
    "# Thankyou"
   ]
  }
 ],
 "metadata": {
  "kernelspec": {
   "display_name": "Python 3 (ipykernel)",
   "language": "python",
   "name": "python3"
  },
  "language_info": {
   "codemirror_mode": {
    "name": "ipython",
    "version": 3
   },
   "file_extension": ".py",
   "mimetype": "text/x-python",
   "name": "python",
   "nbconvert_exporter": "python",
   "pygments_lexer": "ipython3",
   "version": "3.11.4"
  }
 },
 "nbformat": 4,
 "nbformat_minor": 5
}
